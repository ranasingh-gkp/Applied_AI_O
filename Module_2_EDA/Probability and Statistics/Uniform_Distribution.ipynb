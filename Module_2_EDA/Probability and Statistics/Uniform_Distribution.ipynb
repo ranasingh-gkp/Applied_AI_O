{
  "nbformat": 4,
  "nbformat_minor": 0,
  "metadata": {
    "colab": {
      "name": "Uniform Distribution.ipynb",
      "version": "0.3.2",
      "provenance": [],
      "collapsed_sections": []
    },
    "kernelspec": {
      "display_name": "Python 3",
      "language": "python",
      "name": "python3"
    }
  },
  "cells": [
    {
      "cell_type": "markdown",
      "metadata": {
        "id": "VkOOg33M2iJp",
        "colab_type": "text"
      },
      "source": [
        "# Random Number Generator (Uniform Distribution)\n"
      ]
    },
    {
      "cell_type": "code",
      "metadata": {
        "id": "0rPnWXup2iJq",
        "colab_type": "code",
        "outputId": "32e79849-14fa-4e46-e33e-7a9e252522b3",
        "colab": {
          "base_uri": "https://localhost:8080/",
          "height": 34
        }
      },
      "source": [
        "import random\n",
        "print(random.random())#random number generated with uniform destribution"
      ],
      "execution_count": 1,
      "outputs": [
        {
          "output_type": "stream",
          "text": [
            "0.5928198640864321\n"
          ],
          "name": "stdout"
        }
      ]
    },
    {
      "cell_type": "code",
      "metadata": {
        "id": "QPzivAyl2iJw",
        "colab_type": "code",
        "outputId": "34f95cd8-9c7c-4209-bd89-2ae75d5153fa",
        "colab": {
          "base_uri": "https://localhost:8080/",
          "height": 34
        }
      },
      "source": [
        "#load IRIS dataset with 150 points.\n",
        "from sklearn import datasets\n",
        "iris = datasets.load_iris()\n",
        "d = iris.data\n",
        "d.shape\n"
      ],
      "execution_count": 2,
      "outputs": [
        {
          "output_type": "execute_result",
          "data": {
            "text/plain": [
              "(150, 4)"
            ]
          },
          "metadata": {
            "tags": []
          },
          "execution_count": 2
        }
      ]
    },
    {
      "cell_type": "code",
      "metadata": {
        "id": "ZRP6Getl2iJz",
        "colab_type": "code",
        "outputId": "323e8f66-810c-49bb-fc20-e71bbc5a1e17",
        "colab": {
          "base_uri": "https://localhost:8080/",
          "height": 51
        }
      },
      "source": [
        "# Sample 30 points randomly from the 150 point dataset\n",
        "n=150\n",
        "m=30\n",
        "p = m/n\n",
        "print(p)\n",
        "sampled_data =[];\n",
        "\n",
        "for i in range(0,n):\n",
        "  a = random.random()\n",
        "#   print(a)\n",
        "  if  a <= p:\n",
        "    sampled_data.append(d[i,:])\n",
        "    \n",
        "len(sampled_data)"
      ],
      "execution_count": 3,
      "outputs": [
        {
          "output_type": "stream",
          "text": [
            "0.2\n"
          ],
          "name": "stdout"
        },
        {
          "output_type": "execute_result",
          "data": {
            "text/plain": [
              "30"
            ]
          },
          "metadata": {
            "tags": []
          },
          "execution_count": 3
        }
      ]
    },
    {
      "cell_type": "code",
      "metadata": {
        "id": "hAGBHX832iJ2",
        "colab_type": "code",
        "outputId": "582a5aaa-92a6-4dcf-b944-7900b5d5aa1f",
        "colab": {
          "base_uri": "https://localhost:8080/",
          "height": 527
        }
      },
      "source": [
        "from sklearn import datasets \n",
        "data = datasets.load_iris().data \n",
        "n, sample_size = len(data), 30 \n",
        "sample = data[0:30, :] \n",
        "for i in range(31, n):\n",
        "  k = random.randint(0, i) \n",
        "  if k < sample_size: \n",
        "    sample[k] = data[i] \n",
        "print(sample)"
      ],
      "execution_count": 5,
      "outputs": [
        {
          "output_type": "stream",
          "text": [
            "[[5.1 3.5 1.4 0.2]\n",
            " [6.2 2.8 4.8 1.8]\n",
            " [4.7 3.2 1.3 0.2]\n",
            " [5.  3.5 1.3 0.3]\n",
            " [5.2 2.7 3.9 1.4]\n",
            " [5.4 3.9 1.7 0.4]\n",
            " [7.  3.2 4.7 1.4]\n",
            " [5.  3.4 1.5 0.2]\n",
            " [7.7 3.8 6.7 2.2]\n",
            " [4.9 3.1 1.5 0.1]\n",
            " [5.7 2.6 3.5 1. ]\n",
            " [5.7 2.8 4.1 1.3]\n",
            " [5.  3.2 1.2 0.2]\n",
            " [6.5 3.2 5.1 2. ]\n",
            " [6.3 2.5 5.  1.9]\n",
            " [6.2 2.9 4.3 1.3]\n",
            " [5.6 3.  4.1 1.3]\n",
            " [7.6 3.  6.6 2.1]\n",
            " [5.6 2.5 3.9 1.1]\n",
            " [5.8 2.7 5.1 1.9]\n",
            " [6.4 2.8 5.6 2.1]\n",
            " [7.2 3.  5.8 1.6]\n",
            " [6.2 3.4 5.4 2.3]\n",
            " [5.8 2.6 4.  1.2]\n",
            " [4.8 3.4 1.9 0.2]\n",
            " [5.  3.  1.6 0.2]\n",
            " [5.  3.4 1.6 0.4]\n",
            " [5.2 3.5 1.5 0.2]\n",
            " [6.7 2.5 5.8 1.8]\n",
            " [7.1 3.  5.9 2.1]]\n"
          ],
          "name": "stdout"
        }
      ]
    },
    {
      "cell_type": "code",
      "metadata": {
        "id": "T31GypQQ2iJ4",
        "colab_type": "code",
        "outputId": "16b2408f-5607-413b-ec30-545aa634d44b",
        "colab": {
          "base_uri": "https://localhost:8080/",
          "height": 34
        }
      },
      "source": [
        "len(sample)"
      ],
      "execution_count": 7,
      "outputs": [
        {
          "output_type": "execute_result",
          "data": {
            "text/plain": [
              "30"
            ]
          },
          "metadata": {
            "tags": []
          },
          "execution_count": 7
        }
      ]
    },
    {
      "cell_type": "code",
      "metadata": {
        "id": "vZI8R4vcCCQT",
        "colab_type": "code",
        "colab": {}
      },
      "source": [
        ""
      ],
      "execution_count": 0,
      "outputs": []
    }
  ]
}