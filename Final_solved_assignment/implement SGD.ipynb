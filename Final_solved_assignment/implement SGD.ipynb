{
 "cells": [
  {
   "cell_type": "markdown",
   "metadata": {
    "colab_type": "text",
    "id": "eD6RfW9L6kvt"
   },
   "source": [
    "#Import library"
   ]
  },
  {
   "cell_type": "code",
   "execution_count": 0,
   "metadata": {
    "colab": {},
    "colab_type": "code",
    "id": "REYPoTJ1Af7u"
   },
   "outputs": [],
   "source": [
    "import warnings\n",
    "warnings.filterwarnings(\"ignore\")\n",
    "from sklearn.datasets import load_boston\n",
    "from random import seed\n",
    "from random import randrange\n",
    "from csv import reader\n",
    "from math import sqrt\n",
    "from sklearn import preprocessing\n",
    "import pandas as pd\n",
    "import numpy as np\n",
    "import matplotlib.pyplot as plt\n",
    "from prettytable import PrettyTable\n",
    "from sklearn.linear_model import SGDRegressor\n",
    "from sklearn import preprocessing\n",
    "from sklearn.metrics import mean_squared_error"
   ]
  },
  {
   "cell_type": "markdown",
   "metadata": {
    "colab_type": "text",
    "id": "BTswA12-6q8S"
   },
   "source": [
    "#import dataset"
   ]
  },
  {
   "cell_type": "code",
   "execution_count": 0,
   "metadata": {
    "colab": {},
    "colab_type": "code",
    "id": "NTQ2iH-kAwbo"
   },
   "outputs": [],
   "source": [
    "boston_data=pd.DataFrame(load_boston().data,columns=load_boston().feature_names)\n",
    "Y=load_boston().target\n",
    "X=load_boston().data"
   ]
  },
  {
   "cell_type": "code",
   "execution_count": 25,
   "metadata": {
    "colab": {
     "base_uri": "https://localhost:8080/",
     "height": 68
    },
    "colab_type": "code",
    "id": "Epcspa4x8x5w",
    "outputId": "0d5bd644-3bb3-47a5-ac96-984f63fa6c7d"
   },
   "outputs": [
    {
     "name": "stdout",
     "output_type": "stream",
     "text": [
      "Index(['CRIM', 'ZN', 'INDUS', 'CHAS', 'NOX', 'RM', 'AGE', 'DIS', 'RAD', 'TAX',\n",
      "       'PTRATIO', 'B', 'LSTAT'],\n",
      "      dtype='object')\n"
     ]
    }
   ],
   "source": [
    "print(boston_data.columns)"
   ]
  },
  {
   "cell_type": "code",
   "execution_count": 27,
   "metadata": {
    "colab": {
     "base_uri": "https://localhost:8080/",
     "height": 142
    },
    "colab_type": "code",
    "id": "vLYNkLqPaWZd",
    "outputId": "f7131f4d-8ff3-4721-abea-7806950bdc44"
   },
   "outputs": [
    {
     "data": {
      "text/html": [
       "<div>\n",
       "<style scoped>\n",
       "    .dataframe tbody tr th:only-of-type {\n",
       "        vertical-align: middle;\n",
       "    }\n",
       "\n",
       "    .dataframe tbody tr th {\n",
       "        vertical-align: top;\n",
       "    }\n",
       "\n",
       "    .dataframe thead th {\n",
       "        text-align: right;\n",
       "    }\n",
       "</style>\n",
       "<table border=\"1\" class=\"dataframe\">\n",
       "  <thead>\n",
       "    <tr style=\"text-align: right;\">\n",
       "      <th></th>\n",
       "      <th>CRIM</th>\n",
       "      <th>ZN</th>\n",
       "      <th>INDUS</th>\n",
       "      <th>CHAS</th>\n",
       "      <th>NOX</th>\n",
       "      <th>RM</th>\n",
       "      <th>AGE</th>\n",
       "      <th>DIS</th>\n",
       "      <th>RAD</th>\n",
       "      <th>TAX</th>\n",
       "      <th>PTRATIO</th>\n",
       "      <th>B</th>\n",
       "      <th>LSTAT</th>\n",
       "    </tr>\n",
       "  </thead>\n",
       "  <tbody>\n",
       "    <tr>\n",
       "      <th>0</th>\n",
       "      <td>0.00632</td>\n",
       "      <td>18.0</td>\n",
       "      <td>2.31</td>\n",
       "      <td>0.0</td>\n",
       "      <td>0.538</td>\n",
       "      <td>6.575</td>\n",
       "      <td>65.2</td>\n",
       "      <td>4.0900</td>\n",
       "      <td>1.0</td>\n",
       "      <td>296.0</td>\n",
       "      <td>15.3</td>\n",
       "      <td>396.90</td>\n",
       "      <td>4.98</td>\n",
       "    </tr>\n",
       "    <tr>\n",
       "      <th>1</th>\n",
       "      <td>0.02731</td>\n",
       "      <td>0.0</td>\n",
       "      <td>7.07</td>\n",
       "      <td>0.0</td>\n",
       "      <td>0.469</td>\n",
       "      <td>6.421</td>\n",
       "      <td>78.9</td>\n",
       "      <td>4.9671</td>\n",
       "      <td>2.0</td>\n",
       "      <td>242.0</td>\n",
       "      <td>17.8</td>\n",
       "      <td>396.90</td>\n",
       "      <td>9.14</td>\n",
       "    </tr>\n",
       "    <tr>\n",
       "      <th>2</th>\n",
       "      <td>0.02729</td>\n",
       "      <td>0.0</td>\n",
       "      <td>7.07</td>\n",
       "      <td>0.0</td>\n",
       "      <td>0.469</td>\n",
       "      <td>7.185</td>\n",
       "      <td>61.1</td>\n",
       "      <td>4.9671</td>\n",
       "      <td>2.0</td>\n",
       "      <td>242.0</td>\n",
       "      <td>17.8</td>\n",
       "      <td>392.83</td>\n",
       "      <td>4.03</td>\n",
       "    </tr>\n",
       "  </tbody>\n",
       "</table>\n",
       "</div>"
      ],
      "text/plain": [
       "      CRIM    ZN  INDUS  CHAS    NOX  ...  RAD    TAX  PTRATIO       B  LSTAT\n",
       "0  0.00632  18.0   2.31   0.0  0.538  ...  1.0  296.0     15.3  396.90   4.98\n",
       "1  0.02731   0.0   7.07   0.0  0.469  ...  2.0  242.0     17.8  396.90   9.14\n",
       "2  0.02729   0.0   7.07   0.0  0.469  ...  2.0  242.0     17.8  392.83   4.03\n",
       "\n",
       "[3 rows x 13 columns]"
      ]
     },
     "execution_count": 27,
     "metadata": {
      "tags": []
     },
     "output_type": "execute_result"
    }
   ],
   "source": [
    "boston_data.head(3)"
   ]
  },
  {
   "cell_type": "code",
   "execution_count": 0,
   "metadata": {
    "colab": {},
    "colab_type": "code",
    "id": "dLc-f1AZZ4f9"
   },
   "outputs": [],
   "source": [
    "#spliting the dataset\n",
    "import numpy as np\n",
    "from sklearn.preprocessing import StandardScaler\n",
    "from sklearn import model_selection\n",
    "from sklearn.model_selection import train_test_split\n",
    "x_train,x_test,y_train,y_test=train_test_split(X,Y,test_size=0.3)"
   ]
  },
  {
   "cell_type": "markdown",
   "metadata": {
    "colab_type": "text",
    "id": "vbh2diFr-xDG"
   },
   "source": [
    "#standardize the dataset"
   ]
  },
  {
   "cell_type": "code",
   "execution_count": 8,
   "metadata": {
    "colab": {
     "base_uri": "https://localhost:8080/",
     "height": 34
    },
    "colab_type": "code",
    "id": "fBk06K8YAIx7",
    "outputId": "dd42c33d-db35-4872-f607-28e8540dec36"
   },
   "outputs": [
    {
     "data": {
      "text/plain": [
       "pandas.core.frame.DataFrame"
      ]
     },
     "execution_count": 8,
     "metadata": {
      "tags": []
     },
     "output_type": "execute_result"
    }
   ],
   "source": [
    "type(data)"
   ]
  },
  {
   "cell_type": "code",
   "execution_count": 0,
   "metadata": {
    "colab": {},
    "colab_type": "code",
    "id": "EM0XY7WY-hWG"
   },
   "outputs": [],
   "source": [
    "# standardizing data\n",
    "scaler = preprocessing.StandardScaler().fit(x_train)\n",
    "x_train = scaler.transform(x_train)\n",
    "x_test=scaler.transform(x_test)"
   ]
  },
  {
   "cell_type": "code",
   "execution_count": 31,
   "metadata": {
    "colab": {
     "base_uri": "https://localhost:8080/",
     "height": 34
    },
    "colab_type": "code",
    "id": "q01JEyCND4hW",
    "outputId": "96736d7c-8d75-42ec-d195-2a0943987af9"
   },
   "outputs": [
    {
     "data": {
      "text/plain": [
       "numpy.ndarray"
      ]
     },
     "execution_count": 31,
     "metadata": {
      "tags": []
     },
     "output_type": "execute_result"
    }
   ],
   "source": [
    "type(x_train)"
   ]
  },
  {
   "cell_type": "code",
   "execution_count": 0,
   "metadata": {
    "colab": {},
    "colab_type": "code",
    "id": "7S7vjeXtU4Wk"
   },
   "outputs": [],
   "source": [
    "\n",
    "#preparing training data for manual sgd regressor\n",
    "manual_train=pd.DataFrame(data=x_train)\n",
    "manual_train['price']=y_train"
   ]
  },
  {
   "cell_type": "code",
   "execution_count": 0,
   "metadata": {
    "colab": {},
    "colab_type": "code",
    "id": "qFMuE5v8cU2v"
   },
   "outputs": [],
   "source": [
    "results=pd.DataFrame(columns=['sno', 'algo', 'alpha', 'lr_rate_variation', 'init_lr_rate', 'power_t', 'n_iter', 'error'])"
   ]
  },
  {
   "cell_type": "markdown",
   "metadata": {
    "colab_type": "text",
    "id": "uW0CmJn5OXPP"
   },
   "source": [
    "#create regression function manual and sklearn SGDRegressor "
   ]
  },
  {
   "cell_type": "code",
   "execution_count": 0,
   "metadata": {
    "colab": {},
    "colab_type": "code",
    "id": "9CVIju2m0ytq"
   },
   "outputs": [],
   "source": [
    "\n",
    "b_diff=[]\n",
    "w_num=[]\n",
    "\n",
    "x_test=np.array(x_test)\n",
    "y_test=np.array(y_test)"
   ]
  },
  {
   "cell_type": "code",
   "execution_count": 37,
   "metadata": {
    "colab": {
     "base_uri": "https://localhost:8080/",
     "height": 85
    },
    "colab_type": "code",
    "id": "m3qJI4wDbs_b",
    "outputId": "e2f612b4-0c25-4677-9d57-ec9a5910eb8a"
   },
   "outputs": [
    {
     "name": "stdout",
     "output_type": "stream",
     "text": [
      "(354, 13)\n",
      "(152, 13)\n",
      "(354,)\n",
      "(152,)\n"
     ]
    }
   ],
   "source": [
    "# shape of test and train data matrix\n",
    "print(x_train.shape)\n",
    "print(x_test.shape)\n",
    "print(y_train.shape)\n",
    "print(y_test.shape)"
   ]
  },
  {
   "cell_type": "code",
   "execution_count": 0,
   "metadata": {
    "colab": {},
    "colab_type": "code",
    "id": "vA_zzhGC0udm"
   },
   "outputs": [],
   "source": [
    "import seaborn as sns\n",
    "import numpy as np\n",
    "from sklearn.linear_model import SGDRegressor\n",
    "from sklearn.metrics import mean_squared_error\n",
    "from sklearn.metrics import mean_squared_error,mean_absolute_error\n",
    "import matplotlib.pyplot as plt\n",
    "%matplotlib inline"
   ]
  },
  {
   "cell_type": "code",
   "execution_count": 38,
   "metadata": {
    "colab": {
     "base_uri": "https://localhost:8080/",
     "height": 85
    },
    "colab_type": "code",
    "id": "pQPI0BCD7hbo",
    "outputId": "d35c6ced-a23c-42a1-e302-27f19753a63e"
   },
   "outputs": [
    {
     "name": "stdout",
     "output_type": "stream",
     "text": [
      "<class 'numpy.ndarray'>\n",
      "<class 'numpy.ndarray'>\n",
      "<class 'numpy.ndarray'>\n",
      "<class 'numpy.ndarray'>\n"
     ]
    }
   ],
   "source": [
    "print(type(x_train))\n",
    "print(type(y_train))\n",
    "print(type(x_test))\n",
    "print(type(y_test))"
   ]
  },
  {
   "cell_type": "markdown",
   "metadata": {
    "colab_type": "text",
    "id": "Gf_4HtBKh0L4"
   },
   "source": [
    "## SKLearn Implement"
   ]
  },
  {
   "cell_type": "code",
   "execution_count": 43,
   "metadata": {
    "colab": {
     "base_uri": "https://localhost:8080/",
     "height": 329
    },
    "colab_type": "code",
    "id": "q0-l6gLDOnvC",
    "outputId": "672e7a29-31ca-46e8-fc3a-59dbf03bcddf"
   },
   "outputs": [
    {
     "name": "stdout",
     "output_type": "stream",
     "text": [
      "Mean Squared Error : 18.8171511866595\n",
      "Mean Absolute Error : 3.272210163170585\n"
     ]
    },
    {
     "data": {
      "image/png": "[encoded data removed]",
      "text/plain": [
       "<Figure size 432x288 with 1 Axes>"
      ]
     },
     "metadata": {
      "tags": []
     },
     "output_type": "display_data"
    }
   ],
   "source": [
    "#use sklearn SGDRegressor and predict the price\n",
    "#_________________________________________________________________\n",
    "#https://scikit-learn.org/stable/modules/generated/sklearn.linear_model.SGDRegressor.html\n",
    "# SkLearn SGD classifier\n",
    "clf_ = SGDRegressor(penalty='none', max_iter=1000, learning_rate='constant' , eta0=0.001 )\n",
    "clf_.fit(x_train, y_train)\n",
    "\n",
    "print('Mean Squared Error :',mean_squared_error(y_test, clf_.predict(x_test)))\n",
    "print('Mean Absolute Error :',mean_absolute_error(y_test, clf_.predict(x_test)))\n",
    "\n",
    "plt.scatter(y_test,clf_.predict(x_test))\n",
    "plt.grid()\n",
    "plt.xlabel('Actual y')\n",
    "plt.ylabel('Predicted y')\n",
    "plt.title('scatter plot between actual y and predicted y')\n",
    "plt.show()\n",
    "\n"
   ]
  },
  {
   "cell_type": "code",
   "execution_count": 56,
   "metadata": {
    "colab": {
     "base_uri": "https://localhost:8080/",
     "height": 68
    },
    "colab_type": "code",
    "id": "oCOmlumydSPE",
    "outputId": "f7f26846-ac25-43c0-b6b5-434f97685d75"
   },
   "outputs": [
    {
     "data": {
      "text/plain": [
       "array([-0.33126781,  0.93552815, -0.15323092,  0.56349977, -1.93510524,\n",
       "        2.53426604,  0.03284748, -3.32954656,  1.89529266, -1.47365937,\n",
       "       -2.01887324,  0.76173966, -4.02641953])"
      ]
     },
     "execution_count": 56,
     "metadata": {
      "tags": []
     },
     "output_type": "execute_result"
    }
   ],
   "source": [
    "# SkLearn SGD classifier predicted weight matrix\n",
    "sklearn_pred=clf_.predict(x_test)\n",
    "sklearnsgd_w=clf_.coef_\n",
    "sklearnsgd_w"
   ]
  },
  {
   "cell_type": "code",
   "execution_count": 58,
   "metadata": {
    "colab": {
     "base_uri": "https://localhost:8080/",
     "height": 281
    },
    "colab_type": "code",
    "id": "FYvdlSuvjWAc",
    "outputId": "e7eb99c8-72ef-4344-e958-d0dc8f93dabf"
   },
   "outputs": [
    {
     "data": {
      "image/png": "[encoded data removed]",
      "text/plain": [
       "<Figure size 432x288 with 1 Axes>"
      ]
     },
     "metadata": {
      "tags": []
     },
     "output_type": "display_data"
    }
   ],
   "source": [
    "sns.set_style('whitegrid')\n",
    "sns.kdeplot(np.array(sklearn_pred), bw=0.5)\n",
    "\n",
    "plt.grid()\n",
    "\n",
    "plt.title('density plot')\n",
    "plt.show()\n"
   ]
  },
  {
   "cell_type": "markdown",
   "metadata": {
    "colab_type": "text",
    "id": "hZ6699Z2kGgt"
   },
   "source": [
    "Observation:  Most of predicted value occure between 10-30"
   ]
  },
  {
   "cell_type": "markdown",
   "metadata": {
    "colab_type": "text",
    "id": "5QGyeiObeBFD"
   },
   "source": [
    "## Manual implement SGD"
   ]
  },
  {
   "cell_type": "code",
   "execution_count": 0,
   "metadata": {
    "colab": {},
    "colab_type": "code",
    "id": "getFkiI8dqbc"
   },
   "outputs": [],
   "source": [
    "#simple implementation of sgd to linear regression and predict the price\n",
    "def CustomGradientDescentRegressor(train_data,learning_rate=0.001,n_itr=1000,k=10):\n",
    "    w_cur=np.zeros(shape=(1,train_data.shape[1]-1))\n",
    "    b_cur=0\n",
    "    cur_itr=1\n",
    "    while(cur_itr<=n_itr):\n",
    "        w_old=w_cur\n",
    "        b_old=b_cur\n",
    "        w_temp=np.zeros(shape=(1,train_data.shape[1]-1))\n",
    "        b_temp=0\n",
    "        temp=train_data.sample(k)\n",
    "        #print(temp.head(3))\n",
    "        y=np.array(temp['price'])\n",
    "        x=np.array(temp.drop('price',axis=1))\n",
    "        for i in range(k):\n",
    "            w_temp+=x[i]*(y[i]-(np.dot(w_old,x[i])+b_old))*(-2/k)\n",
    "            b_temp+=(y[i]-(np.dot(w_old,x[i])+b_old))*(-2/k)\n",
    "        w_cur=w_old-learning_rate*w_temp\n",
    "        b_cur=b_old-learning_rate*b_temp\n",
    "        if(w_old==w_cur).all():\n",
    "            break\n",
    "        cur_itr+=1\n",
    "    return w_cur,b_cur\n",
    "  \n",
    "  \n",
    "def predict(x,w,b):\n",
    "    y_pred=[]\n",
    "    for i in range(len(x)):\n",
    "        y=np.asscalar(np.dot(w,x[i])+b)\n",
    "        y_pred.append(y)\n",
    "    return np.array(y_pred)\n",
    "\n",
    "\n",
    "def plot_(test_data,y_pred):\n",
    "    #scatter plot\n",
    "    plt.scatter(test_data,y_pred)\n",
    "    plt.grid()\n",
    "    plt.title('scatter plot between actual y and predicted y')\n",
    "    plt.xlabel('actual y')\n",
    "    plt.ylabel('predicted y')\n",
    "    plt.show() "
   ]
  },
  {
   "cell_type": "code",
   "execution_count": 49,
   "metadata": {
    "colab": {
     "base_uri": "https://localhost:8080/",
     "height": 329
    },
    "colab_type": "code",
    "id": "Y-N27N7cebwU",
    "outputId": "076ad0f6-0fde-4029-fe02-1be2fcdc8093"
   },
   "outputs": [
    {
     "name": "stdout",
     "output_type": "stream",
     "text": [
      "26.439364061222363\n",
      "3.8058660450981563\n"
     ]
    },
    {
     "data": {
      "image/png": "[encoded data removed]",
      "text/plain": [
       "<Figure size 432x288 with 1 Axes>"
      ]
     },
     "metadata": {
      "tags": []
     },
     "output_type": "display_data"
    }
   ],
   "source": [
    "# sgd at -------->>>>>>earning_rate=0.001,n_itr=1000\n",
    "\n",
    "w,b=CustomGradientDescentRegressor(manual_train,learning_rate=0.001,n_itr=1000)\n",
    "y_pred=predict(x_test,w,b)\n",
    "\n",
    "# Errors in implemeted model\n",
    "print(mean_squared_error(y_test,y_pred))\n",
    "print(mean_absolute_error(y_test,y_pred))\n",
    "plot_(y_test,y_pred)"
   ]
  },
  {
   "cell_type": "code",
   "execution_count": 50,
   "metadata": {
    "colab": {
     "base_uri": "https://localhost:8080/",
     "height": 68
    },
    "colab_type": "code",
    "id": "x_CumYmne9Ws",
    "outputId": "3538d030-5bd4-4118-9a22-fa6659900a0e"
   },
   "outputs": [
    {
     "data": {
      "text/plain": [
       "array([[-0.20538702,  0.38902364, -0.55326891,  0.76299991, -0.58427362,\n",
       "         2.99423469, -0.13707106, -1.55971412,  0.47885093, -0.51468098,\n",
       "        -1.79504528,  0.71199287, -2.96725157]])"
      ]
     },
     "execution_count": 50,
     "metadata": {
      "tags": []
     },
     "output_type": "execute_result"
    }
   ],
   "source": [
    "# weight vector obtained from impemented SGD Classifier\n",
    "custom_w=w\n",
    "custom_w"
   ]
  },
  {
   "cell_type": "code",
   "execution_count": 59,
   "metadata": {
    "colab": {
     "base_uri": "https://localhost:8080/",
     "height": 281
    },
    "colab_type": "code",
    "id": "pe4HCR5ijC6l",
    "outputId": "dfd60e73-ef62-481b-babf-656687f3a28b"
   },
   "outputs": [
    {
     "data": {
      "image/png": "[encoded data removed]",
      "text/plain": [
       "<Figure size 432x288 with 1 Axes>"
      ]
     },
     "metadata": {
      "tags": []
     },
     "output_type": "display_data"
    }
   ],
   "source": [
    "sns.set_style('whitegrid')\n",
    "sns.kdeplot(np.array(y_pred), bw=0.5)\n",
    "plt.title('density plot')\n",
    "plt.show()"
   ]
  },
  {
   "cell_type": "markdown",
   "metadata": {
    "colab_type": "text",
    "id": "UPGUoRMSfcn5"
   },
   "source": [
    "#Comparing the model"
   ]
  },
  {
   "cell_type": "code",
   "execution_count": 52,
   "metadata": {
    "colab": {
     "base_uri": "https://localhost:8080/",
     "height": 119
    },
    "colab_type": "code",
    "id": "sAsnPmZifgnc",
    "outputId": "38029277-1816-4745-c64a-0b5b803e0281"
   },
   "outputs": [
    {
     "name": "stdout",
     "output_type": "stream",
     "text": [
      "+------------------+--------------------+--------------------+\n",
      "|      Model       |        MSE         |        MAE         |\n",
      "+------------------+--------------------+--------------------+\n",
      "|     sklearn      |  18.8171511866595  | 3.272210163170585  |\n",
      "| custom implement | 26.439364061222363 | 3.8058660450981563 |\n",
      "+------------------+--------------------+--------------------+\n"
     ]
    }
   ],
   "source": [
    "from prettytable import PrettyTable\n",
    "\n",
    "x=PrettyTable()\n",
    "x.field_names=['Model','MSE','MAE']\n",
    "x.add_row(['sklearn',mean_squared_error(y_test, clf_.predict(x_test)),mean_absolute_error(y_test, clf_.predict(x_test))])\n",
    "x.add_row(['custom implement',mean_squared_error(y_test,y_pred),(mean_absolute_error(y_test,y_pred))])\n",
    "print(x)\n",
    "\n",
    "with open('Compare_error', 'w') as w:\n",
    "    w.write(str(x))"
   ]
  },
  {
   "cell_type": "code",
   "execution_count": 54,
   "metadata": {
    "colab": {
     "base_uri": "https://localhost:8080/",
     "height": 340
    },
    "colab_type": "code",
    "id": "LOk_Hiisg3Fp",
    "outputId": "0f5ea716-e4c2-4fa4-93e1-8f59edbaaac4"
   },
   "outputs": [
    {
     "name": "stdout",
     "output_type": "stream",
     "text": [
      "+-----------------------------+---------------------------------+\n",
      "| SKLearn SGD predicted value | Implemented SGD predicted value |\n",
      "+-----------------------------+---------------------------------+\n",
      "|      24.833751842316218     |        20.99173483343341        |\n",
      "|      16.27615116266962      |        17.08149886655334        |\n",
      "|      18.047033389275864     |        15.766987964706097       |\n",
      "|      19.03534771783375      |        15.40201503388248        |\n",
      "|      13.404247330092609     |        9.915907076509074        |\n",
      "|      17.898283606611766     |        15.150177535272183       |\n",
      "|       6.68287788567619      |         3.91138775832054        |\n",
      "|      26.471046220223883     |        23.09107245140476        |\n",
      "|      28.036320315777225     |        25.004524351361713       |\n",
      "|      18.649938038811193     |        17.83158862953246        |\n",
      "|      19.19578673317879      |        15.256087055819584       |\n",
      "|      29.944191714388694     |        25.291951900840747       |\n",
      "|      22.330341408124806     |        20.41560524994322        |\n",
      "|      26.894417484779684     |        23.147285881097012       |\n",
      "|      29.251915836115145     |        29.534831471604825       |\n",
      "+-----------------------------+---------------------------------+\n"
     ]
    }
   ],
   "source": [
    "# Top 10 predicted value\n",
    "implemented_pred=y_pred\n",
    "\n",
    "x=PrettyTable()\n",
    "x.field_names=['SKLearn SGD predicted value','Implemented SGD predicted value']\n",
    "for a in range(15):\n",
    "    x.add_row([sklearn_pred[a],implemented_pred[a]])\n",
    "print(x)   \n",
    "\n",
    "with open('Top 10 predict', 'w') as w:\n",
    "    w.write(str(x))"
   ]
  },
  {
   "cell_type": "markdown",
   "metadata": {
    "colab_type": "text",
    "id": "VBX8trx5kUkT"
   },
   "source": [
    "Observation:  \n",
    "\n",
    "Top 10 predicted value shown in above table\n",
    "\n",
    "Mean absolute error of Custom implement is greater than SKLearn sgd predicted\n",
    "\n",
    "Mean squire error of custom implement is greater than SKLearn implement\n",
    "\n",
    "there need of parameter tuning of Manual implement to improve performance"
   ]
  }
 ],
 "metadata": {
  "colab": {
   "collapsed_sections": [
    "eD6RfW9L6kvt",
    "BTswA12-6q8S",
    "vbh2diFr-xDG",
    "Gf_4HtBKh0L4"
   ],
   "name": "06 Implement SGD.ipynb",
   "provenance": [],
   "toc_visible": true,
   "version": "0.3.2"
  },
  "kernelspec": {
   "display_name": "Python 3",
   "language": "python",
   "name": "python3"
  },
  "language_info": {
   "codemirror_mode": {
    "name": "ipython",
    "version": 3
   },
   "file_extension": ".py",
   "mimetype": "text/x-python",
   "name": "python",
   "nbconvert_exporter": "python",
   "pygments_lexer": "ipython3",
   "version": "3.7.3"
  }
 },
 "nbformat": 4,
 "nbformat_minor": 1
}
