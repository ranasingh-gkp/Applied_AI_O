{
 "cells": [
  {
   "cell_type": "markdown",
   "metadata": {
    "colab_type": "text",
    "id": "Peokon260Kif"
   },
   "source": [
    "#various CNN networks on MNIST dataset"
   ]
  },
  {
   "cell_type": "markdown",
   "metadata": {
    "colab_type": "text",
    "id": "sciZwVzYi_sS"
   },
   "source": [
    "# Dataset(preprocessing)"
   ]
  },
  {
   "cell_type": "code",
   "execution_count": 0,
   "metadata": {
    "colab": {
     "base_uri": "https://localhost:8080/",
     "height": 68
    },
    "colab_type": "code",
    "id": "AOZQ7tPMjLky",
    "outputId": "bbadfb36-07ea-4634-a7b5-737e25c35b47"
   },
   "outputs": [
    {
     "name": "stderr",
     "output_type": "stream",
     "text": [
      "Using TensorFlow backend.\n"
     ]
    },
    {
     "name": "stdout",
     "output_type": "stream",
     "text": [
      "Downloading data from https://s3.amazonaws.com/img-datasets/mnist.npz\n",
      "11493376/11490434 [==============================] - 14s 1us/step\n"
     ]
    }
   ],
   "source": [
    "# Credits: https://github.com/keras-team/keras/blob/master/examples/mnist_cnn.py\n",
    "\n",
    "from __future__ import print_function\n",
    "import keras\n",
    "from keras.datasets import mnist\n",
    "from keras.models import Sequential\n",
    "from keras.layers import Dense, Dropout, Flatten\n",
    "from keras.layers import Conv2D, MaxPooling2D\n",
    "from keras import backend as K\n",
    "\n",
    "batch_size = 128\n",
    "num_classes = 10\n",
    "epochs = 12\n",
    "\n",
    "# input image dimensions\n",
    "img_rows, img_cols = 28, 28\n",
    "\n",
    "# the data, split between train and test sets\n",
    "(x_train, y_train), (x_test, y_test) = mnist.load_data()"
   ]
  },
  {
   "cell_type": "code",
   "execution_count": 0,
   "metadata": {
    "colab": {
     "base_uri": "https://localhost:8080/",
     "height": 68
    },
    "colab_type": "code",
    "id": "L6Mga0tqjQg6",
    "outputId": "d7b674d8-7e5c-4017-a6db-a6a71249335a"
   },
   "outputs": [
    {
     "name": "stdout",
     "output_type": "stream",
     "text": [
      "x_train shape: (60000, 28, 28, 1)\n",
      "60000 train samples\n",
      "10000 test samples\n"
     ]
    }
   ],
   "source": [
    "if K.image_data_format() == 'channels_first':\n",
    "    x_train = x_train.reshape(x_train.shape[0], 1, img_rows, img_cols)\n",
    "    x_test = x_test.reshape(x_test.shape[0], 1, img_rows, img_cols)\n",
    "    input_shape = (1, img_rows, img_cols)\n",
    "else:\n",
    "    x_train = x_train.reshape(x_train.shape[0], img_rows, img_cols, 1)\n",
    "    x_test = x_test.reshape(x_test.shape[0], img_rows, img_cols, 1)\n",
    "    input_shape = (img_rows, img_cols, 1)\n",
    "\n",
    "x_train = x_train.astype('float32')\n",
    "x_test = x_test.astype('float32')\n",
    "x_train /= 255\n",
    "x_test /= 255\n",
    "print('x_train shape:', x_train.shape)\n",
    "print(x_train.shape[0], 'train samples')\n",
    "print(x_test.shape[0], 'test samples')\n",
    "\n",
    "\n",
    "# convert class vectors to binary class matrices\n",
    "y_train = keras.utils.to_categorical(y_train, num_classes)\n",
    "y_test = keras.utils.to_categorical(y_test, num_classes)"
   ]
  },
  {
   "cell_type": "code",
   "execution_count": 0,
   "metadata": {
    "colab": {},
    "colab_type": "code",
    "id": "hFsorDIclnHC"
   },
   "outputs": [],
   "source": [
    "# this function is used draw Categorical Crossentropy Loss VS No. of epochs plot\n",
    "def plt_dynamic(x, vy, ty):\n",
    "  plt.figure(figsize=(10,5))\n",
    "  plt.plot(x, vy, 'b', label=\"Validation Loss\")\n",
    "  plt.plot(x, ty, 'r', label=\"Train Loss\")\n",
    "  plt.xlabel('Epochs') \n",
    "  plt.ylabel('Categorical Crossentropy Loss')\n",
    "  plt.title('\\nCategorical Crossentropy Loss VS Epochs')\n",
    "  plt.legend()\n",
    "  plt.grid()\n",
    "  plt.show()"
   ]
  },
  {
   "cell_type": "markdown",
   "metadata": {
    "colab_type": "text",
    "id": "4O9uCiWPl8vt"
   },
   "source": [
    "# Model 1(3 CNN layer with krnal size 3*3)"
   ]
  },
  {
   "cell_type": "code",
   "execution_count": 0,
   "metadata": {
    "colab": {},
    "colab_type": "code",
    "id": "ldkfAlqfoXcc"
   },
   "outputs": [],
   "source": [
    "from keras.initializers import he_normal\n",
    "from keras.layers.normalization import BatchNormalization\n",
    "import numpy as np\n",
    "import matplotlib.pyplot as plt\n",
    "%matplotlib inline"
   ]
  },
  {
   "cell_type": "code",
   "execution_count": 0,
   "metadata": {
    "colab": {
     "base_uri": "https://localhost:8080/",
     "height": 581
    },
    "colab_type": "code",
    "id": "g82-pNmNk1-S",
    "outputId": "60836431-fcac-4ba9-bb5c-d7888961260a"
   },
   "outputs": [
    {
     "name": "stderr",
     "output_type": "stream",
     "text": [
      "WARNING: Logging before flag parsing goes to stderr.\n",
      "W0625 03:32:07.078349 22112 deprecation_wrapper.py:119] From C:\\Users\\IDM LAB-09\\Anaconda3\\lib\\site-packages\\keras\\backend\\tensorflow_backend.py:74: The name tf.get_default_graph is deprecated. Please use tf.compat.v1.get_default_graph instead.\n",
      "\n",
      "W0625 03:32:07.431370 22112 deprecation_wrapper.py:119] From C:\\Users\\IDM LAB-09\\Anaconda3\\lib\\site-packages\\keras\\backend\\tensorflow_backend.py:517: The name tf.placeholder is deprecated. Please use tf.compat.v1.placeholder instead.\n",
      "\n",
      "W0625 03:32:07.452371 22112 deprecation_wrapper.py:119] From C:\\Users\\IDM LAB-09\\Anaconda3\\lib\\site-packages\\keras\\backend\\tensorflow_backend.py:4138: The name tf.random_uniform is deprecated. Please use tf.random.uniform instead.\n",
      "\n",
      "W0625 03:32:07.577378 22112 deprecation_wrapper.py:119] From C:\\Users\\IDM LAB-09\\Anaconda3\\lib\\site-packages\\keras\\backend\\tensorflow_backend.py:3976: The name tf.nn.max_pool is deprecated. Please use tf.nn.max_pool2d instead.\n",
      "\n",
      "W0625 03:32:07.598379 22112 deprecation_wrapper.py:119] From C:\\Users\\IDM LAB-09\\Anaconda3\\lib\\site-packages\\keras\\backend\\tensorflow_backend.py:133: The name tf.placeholder_with_default is deprecated. Please use tf.compat.v1.placeholder_with_default instead.\n",
      "\n",
      "W0625 03:32:07.605380 22112 deprecation.py:506] From C:\\Users\\IDM LAB-09\\Anaconda3\\lib\\site-packages\\keras\\backend\\tensorflow_backend.py:3445: calling dropout (from tensorflow.python.ops.nn_ops) with keep_prob is deprecated and will be removed in a future version.\n",
      "Instructions for updating:\n",
      "Please use `rate` instead of `keep_prob`. Rate should be set to `rate = 1 - keep_prob`.\n",
      "W0625 03:32:07.652382 22112 deprecation_wrapper.py:119] From C:\\Users\\IDM LAB-09\\Anaconda3\\lib\\site-packages\\keras\\backend\\tensorflow_backend.py:4185: The name tf.truncated_normal is deprecated. Please use tf.random.truncated_normal instead.\n",
      "\n",
      "W0625 03:32:07.694385 22112 deprecation_wrapper.py:119] From C:\\Users\\IDM LAB-09\\Anaconda3\\lib\\site-packages\\keras\\optimizers.py:790: The name tf.train.Optimizer is deprecated. Please use tf.compat.v1.train.Optimizer instead.\n",
      "\n",
      "W0625 03:32:07.781390 22112 deprecation.py:323] From C:\\Users\\IDM LAB-09\\Anaconda3\\lib\\site-packages\\tensorflow\\python\\ops\\math_grad.py:1250: add_dispatch_support.<locals>.wrapper (from tensorflow.python.ops.array_ops) is deprecated and will be removed in a future version.\n",
      "Instructions for updating:\n",
      "Use tf.where in 2.0, which has the same broadcast rule as np.where\n"
     ]
    },
    {
     "name": "stdout",
     "output_type": "stream",
     "text": [
      "Train on 60000 samples, validate on 10000 samples\n",
      "Epoch 1/12\n",
      "60000/60000 [==============================] - 118s 2ms/step - loss: 0.2425 - acc: 0.9236 - val_loss: 0.0445 - val_acc: 0.9857\n",
      "Epoch 2/12\n",
      "60000/60000 [==============================] - 127s 2ms/step - loss: 0.0698 - acc: 0.9787 - val_loss: 0.0307 - val_acc: 0.9896\n",
      "Epoch 3/12\n",
      "60000/60000 [==============================] - 121s 2ms/step - loss: 0.0516 - acc: 0.9846 - val_loss: 0.0260 - val_acc: 0.9910\n",
      "Epoch 4/12\n",
      "60000/60000 [==============================] - 121s 2ms/step - loss: 0.0422 - acc: 0.9870 - val_loss: 0.0265 - val_acc: 0.9917\n",
      "Epoch 5/12\n",
      "60000/60000 [==============================] - 111s 2ms/step - loss: 0.0359 - acc: 0.9893 - val_loss: 0.0201 - val_acc: 0.9933\n",
      "Epoch 6/12\n",
      "60000/60000 [==============================] - 107s 2ms/step - loss: 0.0324 - acc: 0.9897 - val_loss: 0.0204 - val_acc: 0.9937\n",
      "Epoch 7/12\n",
      "60000/60000 [==============================] - 121s 2ms/step - loss: 0.0284 - acc: 0.9910 - val_loss: 0.0195 - val_acc: 0.9928\n",
      "Epoch 8/12\n",
      "60000/60000 [==============================] - 113s 2ms/step - loss: 0.0250 - acc: 0.9924 - val_loss: 0.0171 - val_acc: 0.9939\n",
      "Epoch 9/12\n",
      "60000/60000 [==============================] - 128s 2ms/step - loss: 0.0240 - acc: 0.9924 - val_loss: 0.0192 - val_acc: 0.9929\n",
      "Epoch 10/12\n",
      "60000/60000 [==============================] - 108s 2ms/step - loss: 0.0215 - acc: 0.9932 - val_loss: 0.0170 - val_acc: 0.9941\n",
      "Epoch 11/12\n",
      "60000/60000 [==============================] - 115s 2ms/step - loss: 0.0212 - acc: 0.9937 - val_loss: 0.0148 - val_acc: 0.9948\n",
      "Epoch 12/12\n",
      "60000/60000 [==============================] - 115s 2ms/step - loss: 0.0187 - acc: 0.9941 - val_loss: 0.0145 - val_acc: 0.9945\n"
     ]
    }
   ],
   "source": [
    "model1 = Sequential()\n",
    "\n",
    "#first layer\n",
    "model1.add(Conv2D(32, kernel_size=(3, 3), activation='relu',input_shape=input_shape))\n",
    "\n",
    "#second layer\n",
    "model1.add(Conv2D(64, (3, 3), activation='relu'))\n",
    "model1.add(MaxPooling2D(pool_size=(2, 2)))\n",
    "model1.add(Dropout(0.25))\n",
    "\n",
    "# Adding third conv layer\n",
    "model1.add(Conv2D(128, (3, 3), activation='relu'))\n",
    "model1.add(MaxPooling2D(pool_size=(2, 2)))\n",
    "model1.add(Dropout(0.25))\n",
    "\n",
    "#flattening\n",
    "model1.add(Flatten())\n",
    "\n",
    "# Adding first hidden layer\n",
    "model1.add(Dense(256, activation='relu',kernel_initializer=he_normal(seed=None)))\n",
    "model1.add(Dropout(0.5))\n",
    "\n",
    "#output layer\n",
    "model1.add(Dense(num_classes, activation='softmax'))\n",
    "\n",
    "#compiling the model\n",
    "model1.compile(loss=keras.losses.categorical_crossentropy,  optimizer=keras.optimizers.Adadelta(),metrics=['accuracy'])\n",
    "\n",
    "\n",
    "# Fitting the data to the model\n",
    "history1 = model1.fit(x_train, y_train, batch_size=batch_size, epochs=epochs, verbose=1,  validation_data=(x_test, y_test))\n"
   ]
  },
  {
   "cell_type": "code",
   "execution_count": 0,
   "metadata": {
    "colab": {
     "base_uri": "https://localhost:8080/",
     "height": 399
    },
    "colab_type": "code",
    "id": "lkhvdZaqn-dU",
    "outputId": "9694e71c-7b6a-4426-9980-bede4b4c38d9"
   },
   "outputs": [
    {
     "name": "stdout",
     "output_type": "stream",
     "text": [
      "Test score: 0.014527662280662117\n",
      "Test accuracy: 0.9945\n"
     ]
    },
    {
     "data": {
      "image/png": "[encoded data removed]",
      "text/plain": [
       "<Figure size 720x360 with 1 Axes>"
      ]
     },
     "metadata": {
      "needs_background": "light",
      "tags": []
     },
     "output_type": "display_data"
    }
   ],
   "source": [
    "# Evaluating the model\n",
    "score = model1.evaluate(x_test, y_test, verbose=0) \n",
    "print('Test score:', score[0]) \n",
    "print('Test accuracy:', score[1])\n",
    "\n",
    "# Test and train accuracy of the model\n",
    "model1_test = score[1]\n",
    "model1_train = max(history1.history['acc'])\n",
    "\n",
    "# Plotting Train and Test Loss VS no. of epochs\n",
    "# list of epoch numbers\n",
    "x = list(range(1,epochs+1))\n",
    "\n",
    "# Validation loss\n",
    "vy = history1.history['val_loss']\n",
    "# Training loss\n",
    "ty = history1.history['loss']\n",
    "\n",
    "# Calling the function to draw the plot\n",
    "plt_dynamic(x, vy, ty)"
   ]
  },
  {
   "cell_type": "code",
   "execution_count": 0,
   "metadata": {
    "colab": {},
    "colab_type": "code",
    "id": "TXUQyixSoxHD"
   },
   "outputs": [],
   "source": []
  },
  {
   "cell_type": "markdown",
   "metadata": {
    "colab_type": "text",
    "id": "Y_qzc1XYo1AL"
   },
   "source": [
    "# Model 2(5 CNN layer with kernal size 5*5)"
   ]
  },
  {
   "cell_type": "code",
   "execution_count": 0,
   "metadata": {
    "colab": {},
    "colab_type": "code",
    "id": "ODWFUv42o4e0"
   },
   "outputs": [],
   "source": [
    "from keras.initializers import he_normal\n",
    "from keras.layers.normalization import BatchNormalization\n",
    "import numpy as np\n",
    "import matplotlib.pyplot as plt\n",
    "%matplotlib inline"
   ]
  },
  {
   "cell_type": "code",
   "execution_count": 0,
   "metadata": {
    "colab": {
     "base_uri": "https://localhost:8080/",
     "height": 238
    },
    "colab_type": "code",
    "id": "OIhxn0pAo9kT",
    "outputId": "8bb68a56-cf40-4b71-ea3c-24c4c37db54d"
   },
   "outputs": [
    {
     "name": "stdout",
     "output_type": "stream",
     "text": [
      "Train on 60000 samples, validate on 10000 samples\n",
      "Epoch 1/12\n",
      "60000/60000 [==============================] - 1107s 18ms/step - loss: 2.4445 - acc: 0.1698 - val_loss: 4.9767 - val_acc: 0.1135\n",
      "Epoch 2/12\n",
      "60000/60000 [==============================] - 888s 15ms/step - loss: 1.8481 - acc: 0.2779 - val_loss: 1.6913 - val_acc: 0.3095\n",
      "Epoch 3/12\n",
      "60000/60000 [==============================] - 897s 15ms/step - loss: 1.5117 - acc: 0.3984 - val_loss: 1.7777 - val_acc: 0.3007\n",
      "Epoch 4/12\n",
      "60000/60000 [==============================] - 887s 15ms/step - loss: 1.2493 - acc: 0.5232 - val_loss: 1.2399 - val_acc: 0.5372\n",
      "Epoch 5/12\n",
      "60000/60000 [==============================] - 909s 15ms/step - loss: 1.0504 - acc: 0.6229 - val_loss: 0.7914 - val_acc: 0.7539\n",
      "Epoch 6/12\n",
      "60000/60000 [==============================] - 887s 15ms/step - loss: 0.8085 - acc: 0.7366 - val_loss: 0.5894 - val_acc: 0.8193\n",
      "Epoch 7/12\n",
      "60000/60000 [==============================] - 888s 15ms/step - loss: 0.6266 - acc: 0.8020 - val_loss: 0.4344 - val_acc: 0.8696\n",
      "Epoch 8/12\n",
      "60000/60000 [==============================] - 887s 15ms/step - loss: 0.5118 - acc: 0.8407 - val_loss: 0.3349 - val_acc: 0.8953\n",
      "Epoch 9/12\n",
      "60000/60000 [==============================] - 888s 15ms/step - loss: 0.4448 - acc: 0.8618 - val_loss: 0.3137 - val_acc: 0.9071\n",
      "Epoch 10/12\n",
      "60000/60000 [==============================] - 887s 15ms/step - loss: 0.4102 - acc: 0.8727 - val_loss: 0.2569 - val_acc: 0.9201\n",
      "Epoch 11/12\n",
      "60000/60000 [==============================] - 888s 15ms/step - loss: 0.3841 - acc: 0.8824 - val_loss: 0.2535 - val_acc: 0.9196\n",
      "Epoch 12/12\n",
      "60000/60000 [==============================] - 885s 15ms/step - loss: 0.3492 - acc: 0.8912 - val_loss: 0.2401 - val_acc: 0.9305\n"
     ]
    }
   ],
   "source": [
    "model2 = Sequential()\n",
    "\n",
    "#first layer\n",
    "model2.add(Conv2D(32, kernel_size=(5, 5),padding='same', activation='relu',input_shape=input_shape))\n",
    "\n",
    "#second layer\n",
    "model2.add(Conv2D(64, (5, 5), activation='relu'))\n",
    "model2.add(MaxPooling2D(pool_size=(2, 2),padding='same'))\n",
    "model2.add(Dropout(0.25))\n",
    "\n",
    "# third conv layer\n",
    "model2.add(Conv2D(128, (5, 5), activation='relu'))\n",
    "model2.add(MaxPooling2D(pool_size=(2, 2)))\n",
    "model2.add(Dropout(0.25))\n",
    "\n",
    "# fourth conv layer\n",
    "model2.add(Conv2D(256, (5, 5), padding='same',activation='relu'))\n",
    "model2.add(MaxPooling2D(pool_size=(2, 2),padding='same'))\n",
    "model2.add(Dropout(0.25))\n",
    "\n",
    "# fifth conv layer\n",
    "model2.add(Conv2D(512, (5, 5),padding='same', activation='relu'))\n",
    "model2.add(MaxPooling2D(pool_size=(2, 2),padding='same'))\n",
    "model2.add(Dropout(0.25))\n",
    "\n",
    "#flattening\n",
    "model2.add(Flatten())\n",
    "\n",
    "# Adding first hidden layer\n",
    "model2.add(Dense(512, activation='relu',kernel_initializer=he_normal(seed=None)))\n",
    "# Adding Batch Normalization\n",
    "model2.add(BatchNormalization())\n",
    "# Adding Dropout\n",
    "model2.add(Dropout(0.5))\n",
    "\n",
    "\n",
    "#output layer\n",
    "model2.add(Dense(num_classes, activation='softmax'))\n",
    "\n",
    "#compiling the model\n",
    "model2.compile(loss=keras.losses.categorical_crossentropy,  optimizer=keras.optimizers.Adadelta(),metrics=['accuracy'])\n",
    "\n",
    "\n",
    "# Fitting the data to the model\n",
    "history2 = model2.fit(x_train, y_train, batch_size=batch_size, epochs=epochs, verbose=1,  validation_data=(x_test, y_test))"
   ]
  },
  {
   "cell_type": "code",
   "execution_count": 0,
   "metadata": {
    "colab": {},
    "colab_type": "code",
    "id": "zNXYzHH-wJ5p",
    "outputId": "aade1b77-514d-4c1c-fac6-2dd515c04291"
   },
   "outputs": [
    {
     "name": "stdout",
     "output_type": "stream",
     "text": [
      "Test score: 0.24009098520278932\n",
      "Test accuracy: 0.9305\n"
     ]
    },
    {
     "data": {
      "image/png": "[encoded data removed]",
      "text/plain": [
       "<Figure size 720x360 with 1 Axes>"
      ]
     },
     "metadata": {
      "needs_background": "light",
      "tags": []
     },
     "output_type": "display_data"
    }
   ],
   "source": [
    "# Evaluating the model\n",
    "score = model2.evaluate(x_test, y_test, verbose=0) \n",
    "print('Test score:', score[0]) \n",
    "print('Test accuracy:', score[1])\n",
    "\n",
    "# Test and train accuracy of the model\n",
    "model2_test = score[1]\n",
    "model2_train = max(history2.history['acc'])\n",
    "\n",
    "# Plotting Train and Test Loss VS no. of epochs\n",
    "# list of epoch numbers\n",
    "x = list(range(1,epochs+1))\n",
    "\n",
    "# Validation loss\n",
    "vy = history2.history['val_loss']\n",
    "# Training loss\n",
    "ty = history2.history['loss']\n",
    "\n",
    "# Calling the function to draw the plot\n",
    "plt_dynamic(x, vy, ty)"
   ]
  },
  {
   "cell_type": "markdown",
   "metadata": {
    "colab_type": "text",
    "id": "DSw5msgfwaxF"
   },
   "source": [
    "#Model 3(7 CNN layer with kernal size 2*2)"
   ]
  },
  {
   "cell_type": "code",
   "execution_count": 0,
   "metadata": {
    "colab": {},
    "colab_type": "code",
    "id": "DuwDGzR_wgeF"
   },
   "outputs": [],
   "source": [
    "from keras.initializers import he_normal\n",
    "from keras.layers.normalization import BatchNormalization\n",
    "import numpy as np\n",
    "import matplotlib.pyplot as plt\n",
    "%matplotlib inline"
   ]
  },
  {
   "cell_type": "code",
   "execution_count": 0,
   "metadata": {
    "colab": {},
    "colab_type": "code",
    "id": "hxVu0GK7wzeH",
    "outputId": "1db34c48-3001-4c1a-cda2-2f84b8dd9af4"
   },
   "outputs": [
    {
     "name": "stdout",
     "output_type": "stream",
     "text": [
      "_________________________________________________________________\n",
      "Layer (type)                 Output Shape              Param #   \n",
      "=================================================================\n",
      "conv2d_37 (Conv2D)           (None, 28, 28, 32)        160       \n",
      "_________________________________________________________________\n",
      "conv2d_38 (Conv2D)           (None, 27, 27, 32)        4128      \n",
      "_________________________________________________________________\n",
      "max_pooling2d_27 (MaxPooling (None, 25, 25, 32)        0         \n",
      "_________________________________________________________________\n",
      "dropout_29 (Dropout)         (None, 25, 25, 32)        0         \n",
      "_________________________________________________________________\n",
      "conv2d_39 (Conv2D)           (None, 24, 24, 64)        8256      \n",
      "_________________________________________________________________\n",
      "max_pooling2d_28 (MaxPooling (None, 12, 12, 64)        0         \n",
      "_________________________________________________________________\n",
      "conv2d_40 (Conv2D)           (None, 12, 12, 64)        16448     \n",
      "_________________________________________________________________\n",
      "conv2d_41 (Conv2D)           (None, 11, 11, 128)       32896     \n",
      "_________________________________________________________________\n",
      "max_pooling2d_29 (MaxPooling (None, 4, 4, 128)         0         \n",
      "_________________________________________________________________\n",
      "dropout_30 (Dropout)         (None, 4, 4, 128)         0         \n",
      "_________________________________________________________________\n",
      "conv2d_42 (Conv2D)           (None, 4, 4, 128)         65664     \n",
      "_________________________________________________________________\n",
      "conv2d_43 (Conv2D)           (None, 3, 3, 256)         131328    \n",
      "_________________________________________________________________\n",
      "max_pooling2d_30 (MaxPooling (None, 2, 2, 256)         0         \n",
      "_________________________________________________________________\n",
      "dropout_31 (Dropout)         (None, 2, 2, 256)         0         \n",
      "_________________________________________________________________\n",
      "flatten_3 (Flatten)          (None, 1024)              0         \n",
      "_________________________________________________________________\n",
      "dense_5 (Dense)              (None, 256)               262400    \n",
      "_________________________________________________________________\n",
      "batch_normalization_2 (Batch (None, 256)               1024      \n",
      "_________________________________________________________________\n",
      "dropout_32 (Dropout)         (None, 256)               0         \n",
      "_________________________________________________________________\n",
      "dense_6 (Dense)              (None, 128)               32896     \n",
      "_________________________________________________________________\n",
      "dropout_33 (Dropout)         (None, 128)               0         \n",
      "_________________________________________________________________\n",
      "dense_7 (Dense)              (None, 10)                1290      \n",
      "=================================================================\n",
      "Total params: 556,490\n",
      "Trainable params: 555,978\n",
      "Non-trainable params: 512\n",
      "_________________________________________________________________\n",
      "None\n",
      "Train on 60000 samples, validate on 10000 samples\n",
      "Epoch 1/12\n",
      "60000/60000 [==============================] - 150s 2ms/step - loss: 0.4070 - acc: 0.8646 - val_loss: 0.0522 - val_acc: 0.9822\n",
      "Epoch 2/12\n",
      "60000/60000 [==============================] - 141s 2ms/step - loss: 0.0856 - acc: 0.9744 - val_loss: 0.0522 - val_acc: 0.9837\n",
      "Epoch 3/12\n",
      "60000/60000 [==============================] - 141s 2ms/step - loss: 0.0636 - acc: 0.9815 - val_loss: 0.0384 - val_acc: 0.9886\n",
      "Epoch 4/12\n",
      "60000/60000 [==============================] - 141s 2ms/step - loss: 0.0528 - acc: 0.9844 - val_loss: 0.0351 - val_acc: 0.9895\n",
      "Epoch 5/12\n",
      "60000/60000 [==============================] - 141s 2ms/step - loss: 0.0493 - acc: 0.9857 - val_loss: 0.0299 - val_acc: 0.9917\n",
      "Epoch 6/12\n",
      "60000/60000 [==============================] - 142s 2ms/step - loss: 0.0413 - acc: 0.9875 - val_loss: 0.0202 - val_acc: 0.9937\n",
      "Epoch 7/12\n",
      "60000/60000 [==============================] - 145s 2ms/step - loss: 0.0370 - acc: 0.9894 - val_loss: 0.0272 - val_acc: 0.9926\n",
      "Epoch 8/12\n",
      "60000/60000 [==============================] - 143s 2ms/step - loss: 0.0354 - acc: 0.9896 - val_loss: 0.0363 - val_acc: 0.9895\n",
      "Epoch 9/12\n",
      "60000/60000 [==============================] - 143s 2ms/step - loss: 0.0316 - acc: 0.9908 - val_loss: 0.0230 - val_acc: 0.9930\n",
      "Epoch 10/12\n",
      "60000/60000 [==============================] - 143s 2ms/step - loss: 0.0294 - acc: 0.9908 - val_loss: 0.0216 - val_acc: 0.9934\n",
      "Epoch 11/12\n",
      "60000/60000 [==============================] - 142s 2ms/step - loss: 0.0295 - acc: 0.9914 - val_loss: 0.0280 - val_acc: 0.9901\n",
      "Epoch 12/12\n",
      "60000/60000 [==============================] - 144s 2ms/step - loss: 0.0263 - acc: 0.9925 - val_loss: 0.0219 - val_acc: 0.9935\n"
     ]
    }
   ],
   "source": [
    "# Initialising the model\n",
    "model3 = Sequential()\n",
    "\n",
    "# Adding first conv layer\n",
    "model3.add(Conv2D(32, kernel_size=(2, 2),padding='same',activation='relu',input_shape=input_shape))\n",
    "\n",
    "# Adding second conv layer\n",
    "model3.add(Conv2D(32, (2, 2), activation='relu'))\n",
    "model3.add(MaxPooling2D(pool_size=(3, 3), strides=(1,1)))\n",
    "model3.add(Dropout(0.3))\n",
    "\n",
    "# Adding third conv layer\n",
    "model3.add(Conv2D(64, (2, 2), activation='relu'))\n",
    "model3.add(MaxPooling2D(pool_size=(2, 2),padding='same'))\n",
    "\n",
    "# Adding fourth conv layer\n",
    "model3.add(Conv2D(64, (2, 2),padding='same',activation='relu'))\n",
    "\n",
    "# Adding fifth conv layer\n",
    "model3.add(Conv2D(128, (2, 2), activation='relu'))\n",
    "model3.add(MaxPooling2D(pool_size=(3, 3),padding='same'))\n",
    "model3.add(Dropout(0.25))\n",
    "\n",
    "# Adding sixth conv layer\n",
    "model3.add(Conv2D(128, (2, 2),padding='same',activation='relu'))\n",
    "\n",
    "# Adding seventh conv layer\n",
    "model3.add(Conv2D(256, (2, 2), activation='relu'))\n",
    "model3.add(MaxPooling2D(pool_size=(2, 2), strides=(1,1)))\n",
    "model3.add(Dropout(0.25))\n",
    "\n",
    "# Adding flatten layer\n",
    "model3.add(Flatten())\n",
    "\n",
    "# Adding first hidden layer\n",
    "model3.add(Dense(256, activation='relu',kernel_initializer=he_normal(seed=None)))\n",
    "model3.add(BatchNormalization())\n",
    "model3.add(Dropout(0.5))\n",
    "\n",
    "# Adding second hidden layer\n",
    "model3.add(Dense(128, activation='relu',kernel_initializer=he_normal(seed=None)))\n",
    "model3.add(Dropout(0.25))\n",
    "\n",
    "# Adding output layer\n",
    "model3.add(Dense(num_classes, activation='softmax'))\n",
    "\n",
    "# Printing model Summary\n",
    "print(model3.summary())\n",
    "\n",
    "# Compiling the model\n",
    "model3.compile(optimizer='adam', loss='categorical_crossentropy', metrics=['accuracy'])\n",
    "\n",
    "# Fitting the data to the model\n",
    "history_7 = model3.fit(x_train, y_train,batch_size=batch_size,epochs=epochs,verbose=1,validation_data=(x_test, y_test))"
   ]
  },
  {
   "cell_type": "code",
   "execution_count": 0,
   "metadata": {
    "colab": {},
    "colab_type": "code",
    "id": "Tx2HuLJew3yl",
    "outputId": "a811356b-3126-45c3-a016-2094931c6117"
   },
   "outputs": [
    {
     "name": "stdout",
     "output_type": "stream",
     "text": [
      "Test score: 0.021899777859748427\n",
      "Test accuracy: 0.9935\n"
     ]
    },
    {
     "data": {
      "image/png": "[encoded data removed]",
      "text/plain": [
       "<Figure size 720x360 with 1 Axes>"
      ]
     },
     "metadata": {
      "needs_background": "light",
      "tags": []
     },
     "output_type": "display_data"
    }
   ],
   "source": [
    "# Evaluating the model\n",
    "score = model3.evaluate(x_test, y_test, verbose=0) \n",
    "print('Test score:', score[0]) \n",
    "print('Test accuracy:', score[1])\n",
    "\n",
    "# Test and train accuracy of the model\n",
    "model3_test = score[1]\n",
    "model3_train = max(history_7.history['acc'])\n",
    "\n",
    "# Plotting Train and Test Loss VS no. of epochs\n",
    "# list of epoch numbers\n",
    "x = list(range(1,epochs+1))\n",
    "\n",
    "# Validation loss\n",
    "vy = history_7.history['val_loss']\n",
    "# Training loss\n",
    "ty = history_7.history['loss']\n",
    "\n",
    "# Calling the function to draw the plot\n",
    "plt_dynamic(x, vy, ty)"
   ]
  },
  {
   "cell_type": "markdown",
   "metadata": {
    "colab_type": "text",
    "id": "mmH6bDday_1e"
   },
   "source": [
    "#conclusion"
   ]
  },
  {
   "cell_type": "code",
   "execution_count": 0,
   "metadata": {
    "colab": {},
    "colab_type": "code",
    "id": "5RDQaz8mzCnU",
    "outputId": "e5a25b94-13b8-4910-d061-128be7fc988a"
   },
   "outputs": [
    {
     "name": "stdout",
     "output_type": "stream",
     "text": [
      "+-------------------------------------------+--------------------+---------------+\n",
      "|                   Model                   |   Train accuracy   | Test accuracy |\n",
      "+-------------------------------------------+--------------------+---------------+\n",
      "|  Model 1(3 CNN layer with krnal size 3*3) | 0.9941166666666666 |     0.9945    |\n",
      "| Model 2(5 CNN layer with kernal size 5*5) | 0.8912166666348775 |     0.9305    |\n",
      "| Model 3(7 CNN layer with kernal size 2*2) | 0.9924666666666667 |     0.9935    |\n",
      "+-------------------------------------------+--------------------+---------------+\n"
     ]
    }
   ],
   "source": [
    "from prettytable import PrettyTable\n",
    "x = PrettyTable()\n",
    "x.field_names = [\"Model\",\"Train accuracy\", \"Test accuracy\"]\n",
    "x.add_row([\"Model 1(3 CNN layer with krnal size 3*3)\", model1_train,model1_test])\n",
    "x.add_row([\"Model 2(5 CNN layer with kernal size 5*5)\", model2_train,model2_test])\n",
    "x.add_row([\"Model 3(7 CNN layer with kernal size 2*2)\", model3_train,model3_test])\n",
    "print(x)"
   ]
  },
  {
   "cell_type": "markdown",
   "metadata": {
    "colab_type": "text",
    "id": "8nsRP3RvQqCB"
   },
   "source": [
    "Observation:\n",
    "\n",
    "model 1 and model 3 is neither overfitting nor underfitting with test accuracy of 0.9945, 0.9935 respectively.\n",
    "\n",
    "model 2 have train accuracy less than test so need to br recheck."
   ]
  }
 ],
 "metadata": {
  "colab": {
   "collapsed_sections": [
    "sciZwVzYi_sS",
    "4O9uCiWPl8vt",
    "Y_qzc1XYo1AL"
   ],
   "name": "50_CNN_MNIST.ipynb",
   "provenance": [],
   "version": "0.3.2"
  },
  "kernelspec": {
   "display_name": "Python 3",
   "language": "python",
   "name": "python3"
  },
  "language_info": {
   "codemirror_mode": {
    "name": "ipython",
    "version": 3
   },
   "file_extension": ".py",
   "mimetype": "text/x-python",
   "name": "python",
   "nbconvert_exporter": "python",
   "pygments_lexer": "ipython3",
   "version": "3.7.3"
  }
 },
 "nbformat": 4,
 "nbformat_minor": 1
}
