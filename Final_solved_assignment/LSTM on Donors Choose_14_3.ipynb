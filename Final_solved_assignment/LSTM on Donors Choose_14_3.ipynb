{
 "cells": [
  {
   "cell_type": "code",
   "execution_count": 0,
   "metadata": {
    "colab": {},
    "colab_type": "code",
    "id": "nDhqiPRGhsG2"
   },
   "outputs": [],
   "source": [
    "%matplotlib inline\n",
    "import warnings\n",
    "warnings.filterwarnings(\"ignore\")\n",
    "import pandas as pd\n",
    "import numpy as np\n",
    "import nltk\n",
    "import string\n",
    "import matplotlib.pyplot as plt\n",
    "%matplotlib inline\n",
    "import seaborn as sns\n",
    "import matplotlib.pyplot as plt\n",
    "from sklearn import model_selection\n",
    "from sklearn.model_selection import train_test_split"
   ]
  },
  {
   "cell_type": "code",
   "execution_count": 442,
   "metadata": {
    "colab": {
     "base_uri": "https://localhost:8080/",
     "height": 55
    },
    "colab_type": "code",
    "id": "EcobwFw1SMMa",
    "outputId": "2cc8dd57-b5d3-4731-fb92-711280856f98"
   },
   "outputs": [
    {
     "name": "stdout",
     "output_type": "stream",
     "text": [
      "Drive already mounted at /content/drive; to attempt to forcibly remount, call drive.mount(\"/content/drive\", force_remount=True).\n"
     ]
    }
   ],
   "source": [
    "from google.colab import drive\n",
    "drive.mount('/content/drive')"
   ]
  },
  {
   "cell_type": "code",
   "execution_count": 0,
   "metadata": {
    "colab": {},
    "colab_type": "code",
    "id": "0brfouLNhsG5"
   },
   "outputs": [],
   "source": [
    "# Getting data into a dataframe\n",
    "path=\"/content/drive/My Drive/Colab_Notebooks/ass14/preprocessed_data.csv\"\n",
    "df = pd.read_csv(path)"
   ]
  },
  {
   "cell_type": "code",
   "execution_count": 444,
   "metadata": {
    "colab": {
     "base_uri": "https://localhost:8080/",
     "height": 284
    },
    "colab_type": "code",
    "id": "s8bOxDf3hsG7",
    "outputId": "dbff8877-7e65-4943-b5f6-c64c20b427b1"
   },
   "outputs": [
    {
     "data": {
      "text/html": [
       "<div>\n",
       "<style scoped>\n",
       "    .dataframe tbody tr th:only-of-type {\n",
       "        vertical-align: middle;\n",
       "    }\n",
       "\n",
       "    .dataframe tbody tr th {\n",
       "        vertical-align: top;\n",
       "    }\n",
       "\n",
       "    .dataframe thead th {\n",
       "        text-align: right;\n",
       "    }\n",
       "</style>\n",
       "<table border=\"1\" class=\"dataframe\">\n",
       "  <thead>\n",
       "    <tr style=\"text-align: right;\">\n",
       "      <th></th>\n",
       "      <th>school_state</th>\n",
       "      <th>teacher_prefix</th>\n",
       "      <th>project_grade_category</th>\n",
       "      <th>teacher_number_of_previously_posted_projects</th>\n",
       "      <th>project_is_approved</th>\n",
       "      <th>clean_categories</th>\n",
       "      <th>clean_subcategories</th>\n",
       "      <th>essay</th>\n",
       "      <th>price</th>\n",
       "    </tr>\n",
       "  </thead>\n",
       "  <tbody>\n",
       "    <tr>\n",
       "      <th>0</th>\n",
       "      <td>ca</td>\n",
       "      <td>mrs</td>\n",
       "      <td>grades_prek_2</td>\n",
       "      <td>53</td>\n",
       "      <td>1</td>\n",
       "      <td>math_science</td>\n",
       "      <td>appliedsciences health_lifescience</td>\n",
       "      <td>i fortunate enough use fairy tale stem kits cl...</td>\n",
       "      <td>725.05</td>\n",
       "    </tr>\n",
       "    <tr>\n",
       "      <th>1</th>\n",
       "      <td>ut</td>\n",
       "      <td>ms</td>\n",
       "      <td>grades_3_5</td>\n",
       "      <td>4</td>\n",
       "      <td>1</td>\n",
       "      <td>specialneeds</td>\n",
       "      <td>specialneeds</td>\n",
       "      <td>imagine 8 9 years old you third grade classroo...</td>\n",
       "      <td>213.03</td>\n",
       "    </tr>\n",
       "  </tbody>\n",
       "</table>\n",
       "</div>"
      ],
      "text/plain": [
       "  school_state  ...   price\n",
       "0           ca  ...  725.05\n",
       "1           ut  ...  213.03\n",
       "\n",
       "[2 rows x 9 columns]"
      ]
     },
     "execution_count": 444,
     "metadata": {
      "tags": []
     },
     "output_type": "execute_result"
    }
   ],
   "source": [
    "df.head(2)"
   ]
  },
  {
   "cell_type": "code",
   "execution_count": 445,
   "metadata": {
    "colab": {
     "base_uri": "https://localhost:8080/",
     "height": 90
    },
    "colab_type": "code",
    "id": "bmmmSg-DhsG-",
    "outputId": "c38a265c-42a2-419d-a6a9-abcc29b87731"
   },
   "outputs": [
    {
     "data": {
      "text/plain": [
       "Index(['school_state', 'teacher_prefix', 'project_grade_category',\n",
       "       'teacher_number_of_previously_posted_projects', 'project_is_approved',\n",
       "       'clean_categories', 'clean_subcategories', 'essay', 'price'],\n",
       "      dtype='object')"
      ]
     },
     "execution_count": 445,
     "metadata": {
      "tags": []
     },
     "output_type": "execute_result"
    }
   ],
   "source": [
    "df.columns"
   ]
  },
  {
   "cell_type": "code",
   "execution_count": 446,
   "metadata": {
    "colab": {
     "base_uri": "https://localhost:8080/",
     "height": 35
    },
    "colab_type": "code",
    "id": "l1s6kjjOhsHA",
    "outputId": "7eda8bf7-0454-44a0-f5c5-3423d762d55f"
   },
   "outputs": [
    {
     "data": {
      "text/plain": [
       "(109248, 9)"
      ]
     },
     "execution_count": 446,
     "metadata": {
      "tags": []
     },
     "output_type": "execute_result"
    }
   ],
   "source": [
    "df.shape"
   ]
  },
  {
   "cell_type": "code",
   "execution_count": 0,
   "metadata": {
    "colab": {},
    "colab_type": "code",
    "id": "eNgYerUYhsHD"
   },
   "outputs": [],
   "source": [
    "#df = df.sample(n=40000)\n",
    "#project_data=project_data.tail(1000)\n",
    "#project_data.shape"
   ]
  },
  {
   "cell_type": "markdown",
   "metadata": {
    "colab_type": "text",
    "id": "0TjidQhJhsHF"
   },
   "source": [
    "### Spliting dataset"
   ]
  },
  {
   "cell_type": "code",
   "execution_count": 448,
   "metadata": {
    "colab": {
     "base_uri": "https://localhost:8080/",
     "height": 35
    },
    "colab_type": "code",
    "id": "SrWxQH0shsHF",
    "outputId": "35394176-89ca-483b-ca15-a9c8fbffd7f7"
   },
   "outputs": [
    {
     "data": {
      "text/plain": [
       "(109248,)"
      ]
     },
     "execution_count": 448,
     "metadata": {
      "tags": []
     },
     "output_type": "execute_result"
    }
   ],
   "source": [
    "y=df['project_is_approved']\n",
    "y.shape"
   ]
  },
  {
   "cell_type": "code",
   "execution_count": 449,
   "metadata": {
    "colab": {
     "base_uri": "https://localhost:8080/",
     "height": 35
    },
    "colab_type": "code",
    "id": "umw_bi3hhsHH",
    "outputId": "9119c99a-0cfe-4d83-b188-c52335297cab"
   },
   "outputs": [
    {
     "data": {
      "text/plain": [
       "(109248, 8)"
      ]
     },
     "execution_count": 449,
     "metadata": {
      "tags": []
     },
     "output_type": "execute_result"
    }
   ],
   "source": [
    "features = df.drop([\"project_is_approved\"],axis=1)\n",
    "features.shape"
   ]
  },
  {
   "cell_type": "code",
   "execution_count": 0,
   "metadata": {
    "colab": {},
    "colab_type": "code",
    "id": "wlPBNRdxhsHK"
   },
   "outputs": [],
   "source": [
    "#https://scikit-learn.org/stable/modules/generated/sklearn.model_selection.train_test_split.html\n",
    "\n",
    "#split the data into train and test fo bag of words\n",
    "\n",
    "x_train,x_test,y_train,y_test=model_selection.train_test_split(features,y,test_size=0.33,stratify=y,random_state=0)\n",
    "#split train into cross val train and cross val test\n",
    "#x_train,x_cv,y_train,y_cv=model_selection.train_test_split(x_t,y_t,test_size=0.3,random_state=0)"
   ]
  },
  {
   "cell_type": "code",
   "execution_count": 451,
   "metadata": {
    "colab": {
     "base_uri": "https://localhost:8080/",
     "height": 72
    },
    "colab_type": "code",
    "id": "L-lXp6E7hsHM",
    "outputId": "b4e20d0d-c841-447b-e8b4-6924f4b07490"
   },
   "outputs": [
    {
     "name": "stdout",
     "output_type": "stream",
     "text": [
      "(73196, 8)\n",
      "+++++++++++++\n",
      "(36052, 8)\n"
     ]
    }
   ],
   "source": [
    "print(x_train.shape)\n",
    "print(\"+++++++++++++\")\n",
    "print(x_test.shape)"
   ]
  },
  {
   "cell_type": "code",
   "execution_count": 0,
   "metadata": {
    "colab": {},
    "colab_type": "code",
    "id": "cTQ2_KnzhsHP"
   },
   "outputs": [],
   "source": [
    "# Preparing Text Data As per Our Model\n",
    "x_train[\"len_essay\"] = x_train[\"essay\"].apply(len)\n",
    "x_test[\"len_essay\"] = x_test[\"essay\"].apply(len)"
   ]
  },
  {
   "cell_type": "markdown",
   "metadata": {
    "colab_type": "text",
    "id": "o5U3bfWQhsHR"
   },
   "source": [
    "#### Distribution plot of essay dataset"
   ]
  },
  {
   "cell_type": "code",
   "execution_count": 453,
   "metadata": {
    "colab": {
     "base_uri": "https://localhost:8080/",
     "height": 291
    },
    "colab_type": "code",
    "id": "jRpbKPE9hsHS",
    "outputId": "d01b543a-034a-4c47-d07e-fb12f76572f2"
   },
   "outputs": [
    {
     "data": {
      "image/png": "[encoded data removed]",
      "text/plain": [
       "<Figure size 432x288 with 1 Axes>"
      ]
     },
     "metadata": {
      "tags": []
     },
     "output_type": "display_data"
    }
   ],
   "source": [
    "sns.set()\n",
    "ax = sns.distplot(x_train[\"len_essay\"])\n"
   ]
  },
  {
   "cell_type": "code",
   "execution_count": 454,
   "metadata": {
    "colab": {
     "base_uri": "https://localhost:8080/",
     "height": 291
    },
    "colab_type": "code",
    "id": "2I6d08e3hsHU",
    "outputId": "84675179-579a-45eb-cdcc-9285f8d2c2fc"
   },
   "outputs": [
    {
     "data": {
      "image/png": "[encoded data removed]",
      "text/plain": [
       "<Figure size 432x288 with 1 Axes>"
      ]
     },
     "metadata": {
      "tags": []
     },
     "output_type": "display_data"
    }
   ],
   "source": [
    "ax = sns.distplot(x_test[\"len_essay\"])"
   ]
  },
  {
   "cell_type": "code",
   "execution_count": 0,
   "metadata": {
    "colab": {},
    "colab_type": "code",
    "id": "SfR1bUR3hsHW"
   },
   "outputs": [],
   "source": [
    "from sklearn.feature_extraction.text import CountVectorizer\n",
    "from nltk.stem.porter import PorterStemmer\n",
    "import re\n",
    "import string\n",
    "from nltk.corpus import stopwords\n",
    "from nltk.stem import PorterStemmer\n",
    "from nltk.stem.wordnet import WordNetLemmatizer\n",
    "from gensim.models import Word2Vec\n",
    "from gensim.models import KeyedVectors\n",
    "import pickle"
   ]
  },
  {
   "cell_type": "markdown",
   "metadata": {
    "colab_type": "text",
    "id": "N_BUXuc8e-dV"
   },
   "source": [
    "## Calculate IDF value"
   ]
  },
  {
   "cell_type": "code",
   "execution_count": 0,
   "metadata": {
    "colab": {},
    "colab_type": "code",
    "id": "m54yUL3nfFek"
   },
   "outputs": [],
   "source": [
    "# Filtering Text Data based on idf values\n",
    "\n",
    "tfidf = TfidfVectorizer()\n",
    "combine_tfidf = tfidf.fit_transform(x_train[\"essay\"])\n",
    "\n",
    "# converting to dictionary\n",
    "combine_dict = dict(zip(tfidf.get_feature_names(),list(tfidf.idf_)))\n",
    "tfidf_df = pd.DataFrame(list(combine_dict.items()), columns=['Words', 'IDF_Values'])\n",
    "tfidf_df = tfidf_df.sort_values(by ='IDF_Values' )"
   ]
  },
  {
   "cell_type": "code",
   "execution_count": 457,
   "metadata": {
    "colab": {
     "base_uri": "https://localhost:8080/",
     "height": 54
    },
    "colab_type": "code",
    "id": "LZZLAnKsfFOT",
    "outputId": "89bcecec-01bb-4760-818f-804135060b01"
   },
   "outputs": [
    {
     "name": "stdout",
     "output_type": "stream",
     "text": [
      "1.0080242390926728\n",
      "11.50776253494305\n"
     ]
    }
   ],
   "source": [
    "print(tfidf_df[\"IDF_Values\"].min())\n",
    "print(tfidf_df[\"IDF_Values\"].max())"
   ]
  },
  {
   "cell_type": "code",
   "execution_count": 458,
   "metadata": {
    "colab": {
     "base_uri": "https://localhost:8080/",
     "height": 309
    },
    "colab_type": "code",
    "id": "BpnKewd5gNqG",
    "outputId": "c99767b7-e944-499e-b331-b516dd3bf088"
   },
   "outputs": [
    {
     "data": {
      "text/plain": [
       "Text(0.5, 1.0, 'Violin plot of idf')"
      ]
     },
     "execution_count": 458,
     "metadata": {
      "tags": []
     },
     "output_type": "execute_result"
    },
    {
     "data": {
      "image/png": "[encoded data removed]",
      "text/plain": [
       "<Figure size 432x288 with 1 Axes>"
      ]
     },
     "metadata": {
      "tags": []
     },
     "output_type": "display_data"
    }
   ],
   "source": [
    "sns.boxplot(x = \"IDF_Values\",data=tfidf_df,orient=\"v\")\n",
    "plt.xlabel(\"idf_\")\n",
    "plt.title(\"Violin plot of idf\")"
   ]
  },
  {
   "cell_type": "code",
   "execution_count": 459,
   "metadata": {
    "colab": {
     "base_uri": "https://localhost:8080/",
     "height": 309
    },
    "colab_type": "code",
    "id": "D3pMHu6kgDu5",
    "outputId": "b2cea2ff-dca8-49bb-83da-b9f7b88c3909"
   },
   "outputs": [
    {
     "data": {
      "text/plain": [
       "Text(0.5, 1.0, 'Violin plot of idf')"
      ]
     },
     "execution_count": 459,
     "metadata": {
      "tags": []
     },
     "output_type": "execute_result"
    },
    {
     "data": {
      "image/png": "[encoded data removed]",
      "text/plain": [
       "<Figure size 432x288 with 1 Axes>"
      ]
     },
     "metadata": {
      "tags": []
     },
     "output_type": "display_data"
    }
   ],
   "source": [
    "sns.violinplot(x = \"IDF_Values\",data=tfidf_df,orient=\"v\")\n",
    "plt.xlabel(\"idf_\")\n",
    "plt.title(\"Violin plot of idf\")"
   ]
  },
  {
   "cell_type": "code",
   "execution_count": 460,
   "metadata": {
    "colab": {
     "base_uri": "https://localhost:8080/",
     "height": 72
    },
    "colab_type": "code",
    "id": "8-RUvGV1hlr-",
    "outputId": "2e41e223-c8fe-44b9-cb76-f375b52500f1"
   },
   "outputs": [
    {
     "name": "stdout",
     "output_type": "stream",
     "text": [
      "\n",
      "Quantiles:\n",
      "[ 1.00802424  9.49285951 11.10229743 11.50776253]\n"
     ]
    }
   ],
   "source": [
    "print(\"\\nQuantiles:\")\n",
    "print(np.percentile(tfidf_df['IDF_Values'],np.arange(0, 100, 25)))"
   ]
  },
  {
   "cell_type": "code",
   "execution_count": 461,
   "metadata": {
    "colab": {
     "base_uri": "https://localhost:8080/",
     "height": 181
    },
    "colab_type": "code",
    "id": "XZuLlz6QhqkM",
    "outputId": "a036c988-bbc2-428c-b698-93ba955df96e"
   },
   "outputs": [
    {
     "name": "stdout",
     "output_type": "stream",
     "text": [
      "\n",
      "25th Percentiles:\n",
      "9.492859514400784\n",
      "\n",
      "75th Percentiles:\n",
      "11.50776253494305\n",
      "\n",
      "90th Percentiles:\n",
      "11.507762534943051\n"
     ]
    }
   ],
   "source": [
    "print(\"\\n25th Percentiles:\")\n",
    "print(np.percentile(tfidf_df['IDF_Values'],25))\n",
    "print(\"\\n75th Percentiles:\")\n",
    "print(np.percentile(tfidf_df['IDF_Values'],75))\n",
    "\n",
    "print(\"\\n90th Percentiles:\")\n",
    "print(np.percentile(tfidf_df['IDF_Values'],90))"
   ]
  },
  {
   "cell_type": "markdown",
   "metadata": {
    "colab_type": "text",
    "id": "XnmCQBqXh6C7"
   },
   "source": [
    "Consider words that have idf values between 25th and 75th percentile because most important and most rare words both are not good for model\n"
   ]
  },
  {
   "cell_type": "code",
   "execution_count": 462,
   "metadata": {
    "colab": {
     "base_uri": "https://localhost:8080/",
     "height": 54
    },
    "colab_type": "code",
    "id": "g5PZAsyPh26q",
    "outputId": "c224b9f3-ca02-4c97-b21b-e74b7aab49dc"
   },
   "outputs": [
    {
     "name": "stdout",
     "output_type": "stream",
     "text": [
      "(48463, 2)\n",
      "dimension after removing words (12374, 2)\n"
     ]
    }
   ],
   "source": [
    "print(tfidf_df.shape)\n",
    "tfidf_filtered = tfidf_df[tfidf_df[\"IDF_Values\"] <=  np.percentile(tfidf_df['IDF_Values'],25)]\n",
    "print(\"dimension after removing words\", tfidf_filtered.shape)"
   ]
  },
  {
   "cell_type": "code",
   "execution_count": 463,
   "metadata": {
    "colab": {
     "base_uri": "https://localhost:8080/",
     "height": 199
    },
    "colab_type": "code",
    "id": "Loxf1NiDinMn",
    "outputId": "99911d33-6b83-4b60-83af-01c0e235083e"
   },
   "outputs": [
    {
     "data": {
      "text/plain": [
       "['students',\n",
       " 'nannan',\n",
       " 'school',\n",
       " 'my',\n",
       " 'learning',\n",
       " 'classroom',\n",
       " 'not',\n",
       " 'learn',\n",
       " 'the',\n",
       " 'they']"
      ]
     },
     "execution_count": 463,
     "metadata": {
      "tags": []
     },
     "output_type": "execute_result"
    }
   ],
   "source": [
    "#selecting important words between 25th and 75th percentile\n",
    "corpus = tfidf_filtered[\"Words\"].tolist()\n",
    "corpus[:10]"
   ]
  },
  {
   "cell_type": "code",
   "execution_count": 464,
   "metadata": {
    "colab": {
     "base_uri": "https://localhost:8080/",
     "height": 35
    },
    "colab_type": "code",
    "id": "fuphPi4UZMdo",
    "outputId": "94f829a3-882b-48a3-af67-b535ac91ee26"
   },
   "outputs": [
    {
     "data": {
      "text/plain": [
       "12374"
      ]
     },
     "execution_count": 464,
     "metadata": {
      "tags": []
     },
     "output_type": "execute_result"
    }
   ],
   "source": [
    "len(corpus)"
   ]
  },
  {
   "cell_type": "code",
   "execution_count": 0,
   "metadata": {
    "colab": {},
    "colab_type": "code",
    "id": "hPQ_6t3HhsHY"
   },
   "outputs": [],
   "source": [
    "# convert the sentences (strings) into integers\n",
    "from keras.preprocessing.text import Tokenizer\n",
    "tokenizer = Tokenizer()\n",
    "tokenizer.fit_on_texts(corpus)\n",
    "sequences_train = tokenizer.texts_to_sequences(x_train[\"essay\"])\n",
    "sequences_test = tokenizer.texts_to_sequences(x_test[\"essay\"])"
   ]
  },
  {
   "cell_type": "code",
   "execution_count": 466,
   "metadata": {
    "colab": {
     "base_uri": "https://localhost:8080/",
     "height": 1000
    },
    "colab_type": "code",
    "id": "jUzhrsv_hsHa",
    "outputId": "ecdbb9ea-542f-484f-b80d-ebec5f4893b6"
   },
   "outputs": [
    {
     "data": {
      "text/plain": [
       "[[24,\n",
       "  6,\n",
       "  1770,\n",
       "  26,\n",
       "  927,\n",
       "  15,\n",
       "  3063,\n",
       "  6387,\n",
       "  7132,\n",
       "  12,\n",
       "  1,\n",
       "  30,\n",
       "  741,\n",
       "  1632,\n",
       "  3,\n",
       "  10,\n",
       "  140,\n",
       "  19,\n",
       "  1259,\n",
       "  1807,\n",
       "  440,\n",
       "  828,\n",
       "  3084,\n",
       "  69,\n",
       "  974,\n",
       "  689,\n",
       "  36,\n",
       "  99,\n",
       "  12,\n",
       "  1,\n",
       "  480,\n",
       "  4064,\n",
       "  712,\n",
       "  177,\n",
       "  940,\n",
       "  111,\n",
       "  9,\n",
       "  3579,\n",
       "  1269,\n",
       "  248,\n",
       "  442,\n",
       "  1,\n",
       "  292,\n",
       "  229,\n",
       "  2639,\n",
       "  185,\n",
       "  37,\n",
       "  32,\n",
       "  61,\n",
       "  608,\n",
       "  560,\n",
       "  2589,\n",
       "  6,\n",
       "  1649,\n",
       "  118,\n",
       "  1717,\n",
       "  137,\n",
       "  12,\n",
       "  1,\n",
       "  113,\n",
       "  5983,\n",
       "  2388,\n",
       "  295,\n",
       "  3149,\n",
       "  6,\n",
       "  608,\n",
       "  10,\n",
       "  458,\n",
       "  11700,\n",
       "  2001,\n",
       "  3355,\n",
       "  2069,\n",
       "  1254,\n",
       "  2138,\n",
       "  1719,\n",
       "  245,\n",
       "  608,\n",
       "  133,\n",
       "  167,\n",
       "  292,\n",
       "  521,\n",
       "  347,\n",
       "  55,\n",
       "  8,\n",
       "  343,\n",
       "  437,\n",
       "  1,\n",
       "  221,\n",
       "  2138,\n",
       "  1757,\n",
       "  71,\n",
       "  15,\n",
       "  30,\n",
       "  437,\n",
       "  103,\n",
       "  5465,\n",
       "  571,\n",
       "  1656,\n",
       "  64,\n",
       "  592,\n",
       "  887,\n",
       "  11,\n",
       "  734,\n",
       "  1,\n",
       "  25,\n",
       "  130,\n",
       "  776,\n",
       "  484,\n",
       "  521,\n",
       "  3949,\n",
       "  3077,\n",
       "  273,\n",
       "  46,\n",
       "  494,\n",
       "  1,\n",
       "  3827,\n",
       "  4,\n",
       "  1,\n",
       "  38,\n",
       "  3803,\n",
       "  5700,\n",
       "  5836,\n",
       "  1699,\n",
       "  2634,\n",
       "  1229,\n",
       "  232,\n",
       "  226,\n",
       "  3332,\n",
       "  547,\n",
       "  423,\n",
       "  1347,\n",
       "  2705,\n",
       "  658,\n",
       "  413,\n",
       "  388,\n",
       "  11,\n",
       "  120,\n",
       "  1,\n",
       "  322,\n",
       "  369,\n",
       "  151,\n",
       "  566,\n",
       "  3,\n",
       "  26,\n",
       "  1613,\n",
       "  25,\n",
       "  130,\n",
       "  118,\n",
       "  2523,\n",
       "  303,\n",
       "  51,\n",
       "  2],\n",
       " [24,\n",
       "  3,\n",
       "  4340,\n",
       "  2491,\n",
       "  1674,\n",
       "  2692,\n",
       "  2784,\n",
       "  24,\n",
       "  3,\n",
       "  4873,\n",
       "  1405,\n",
       "  4268,\n",
       "  1041,\n",
       "  1463,\n",
       "  2692,\n",
       "  24,\n",
       "  1,\n",
       "  18,\n",
       "  113,\n",
       "  153,\n",
       "  4537,\n",
       "  828,\n",
       "  874,\n",
       "  143,\n",
       "  366,\n",
       "  265,\n",
       "  307,\n",
       "  38,\n",
       "  143,\n",
       "  366,\n",
       "  14,\n",
       "  989,\n",
       "  443,\n",
       "  2692,\n",
       "  7,\n",
       "  2062,\n",
       "  257,\n",
       "  3,\n",
       "  989,\n",
       "  340,\n",
       "  24,\n",
       "  1531,\n",
       "  13,\n",
       "  1480,\n",
       "  874,\n",
       "  2674,\n",
       "  14,\n",
       "  94,\n",
       "  874,\n",
       "  2674,\n",
       "  2643,\n",
       "  1761,\n",
       "  11,\n",
       "  38,\n",
       "  4537,\n",
       "  168,\n",
       "  4774,\n",
       "  4705,\n",
       "  724,\n",
       "  3,\n",
       "  724,\n",
       "  168,\n",
       "  4461,\n",
       "  24,\n",
       "  3,\n",
       "  4294,\n",
       "  2491,\n",
       "  1674,\n",
       "  1565,\n",
       "  3,\n",
       "  989,\n",
       "  181,\n",
       "  874,\n",
       "  9576,\n",
       "  443,\n",
       "  24,\n",
       "  1,\n",
       "  5857,\n",
       "  98,\n",
       "  1257,\n",
       "  221,\n",
       "  3,\n",
       "  73,\n",
       "  5427,\n",
       "  10,\n",
       "  21,\n",
       "  168,\n",
       "  4774,\n",
       "  4705,\n",
       "  724,\n",
       "  228,\n",
       "  656,\n",
       "  5427,\n",
       "  7632,\n",
       "  1742,\n",
       "  141,\n",
       "  1,\n",
       "  15,\n",
       "  3114,\n",
       "  172,\n",
       "  168,\n",
       "  24,\n",
       "  1,\n",
       "  2785,\n",
       "  9576,\n",
       "  15,\n",
       "  38,\n",
       "  366,\n",
       "  4537,\n",
       "  838,\n",
       "  955,\n",
       "  51,\n",
       "  10,\n",
       "  3699,\n",
       "  13,\n",
       "  2189,\n",
       "  2571,\n",
       "  10551,\n",
       "  1480,\n",
       "  29,\n",
       "  989,\n",
       "  999,\n",
       "  544,\n",
       "  43,\n",
       "  3,\n",
       "  2]]"
      ]
     },
     "execution_count": 466,
     "metadata": {
      "tags": []
     },
     "output_type": "execute_result"
    }
   ],
   "source": [
    "sequences_train[:2]"
   ]
  },
  {
   "cell_type": "code",
   "execution_count": 0,
   "metadata": {
    "colab": {},
    "colab_type": "code",
    "id": "XgoMDz62Z_6J"
   },
   "outputs": [],
   "source": [
    "length = []\n",
    "for i in sequences_train:\n",
    "  length.append(len(i))"
   ]
  },
  {
   "cell_type": "code",
   "execution_count": 468,
   "metadata": {
    "colab": {
     "base_uri": "https://localhost:8080/",
     "height": 292
    },
    "colab_type": "code",
    "id": "45WyBbKDaE1X",
    "outputId": "cf535403-4bf0-4b74-d31e-8f980b643dd4"
   },
   "outputs": [
    {
     "data": {
      "text/plain": [
       "<matplotlib.axes._subplots.AxesSubplot at 0x7efdb1c4ee48>"
      ]
     },
     "execution_count": 468,
     "metadata": {
      "tags": []
     },
     "output_type": "execute_result"
    },
    {
     "data": {
      "image/png": "[encoded data removed]",
      "text/plain": [
       "<Figure size 432x288 with 1 Axes>"
      ]
     },
     "metadata": {
      "tags": []
     },
     "output_type": "display_data"
    }
   ],
   "source": [
    "sns.set()\n",
    "sns.distplot(length)"
   ]
  },
  {
   "cell_type": "code",
   "execution_count": 469,
   "metadata": {
    "colab": {
     "base_uri": "https://localhost:8080/",
     "height": 90
    },
    "colab_type": "code",
    "id": "xSW589fshsHj",
    "outputId": "a8421977-904c-4c37-a027-77ca64e7004e"
   },
   "outputs": [
    {
     "name": "stdout",
     "output_type": "stream",
     "text": [
      "No. of datapoints in X_train : 73196\n",
      "No. of datapoints in X_test : 36052\n",
      "Shape of Y_train : (73196,)\n",
      "Shape of Y_test : (36052,)\n"
     ]
    }
   ],
   "source": [
    "print(\"No. of datapoints in X_train :\",len(x_train))\n",
    "print(\"No. of datapoints in X_test :\",len(x_test))\n",
    "print(\"Shape of Y_train :\",y_train.shape)\n",
    "print(\"Shape of Y_test :\",y_test.shape)"
   ]
  },
  {
   "cell_type": "code",
   "execution_count": 470,
   "metadata": {
    "colab": {
     "base_uri": "https://localhost:8080/",
     "height": 35
    },
    "colab_type": "code",
    "id": "iJUx4IPshsHn",
    "outputId": "af4bb236-8a87-4b28-bada-a26653530068"
   },
   "outputs": [
    {
     "name": "stdout",
     "output_type": "stream",
     "text": [
      "Found 12374 unique tokens.\n"
     ]
    }
   ],
   "source": [
    "# get word -> integer mapping\n",
    "word2idx = tokenizer.word_index\n",
    "print('Found %s unique tokens.' % len(word2idx))"
   ]
  },
  {
   "cell_type": "code",
   "execution_count": 0,
   "metadata": {
    "colab": {},
    "colab_type": "code",
    "id": "AvJGEVVZhsHp"
   },
   "outputs": [],
   "source": [
    "# importing required libraries\n",
    "import warnings\n",
    "warnings.filterwarnings(\"ignore\")\n",
    "import pandas as pd\n",
    "import numpy as np\n",
    "from keras.layers import Input, Embedding, LSTM, Dropout, BatchNormalization, Dense, concatenate, Flatten, Conv1D, MaxPool1D, LeakyReLU, ELU, SpatialDropout1D, MaxPooling1D, GlobalAveragePooling1D, GlobalMaxPooling1D\n",
    "from keras.preprocessing.text import Tokenizer, one_hot\n",
    "from keras.preprocessing.sequence import pad_sequences\n",
    "from keras.models import Model, load_model\n",
    "from keras import regularizers\n",
    "from keras.optimizers import *\n",
    "from keras.callbacks import ModelCheckpoint, EarlyStopping, TensorBoard, ReduceLROnPlateau\n",
    "from sklearn.feature_extraction.text import TfidfVectorizer, CountVectorizer\n",
    "from sklearn.metrics import roc_auc_score\n",
    "import tensorflow as tf\n",
    "import matplotlib.pyplot as plt\n",
    "%matplotlib inline\n",
    "import re\n",
    "from tqdm import tqdm\n",
    "from sklearn.preprocessing import LabelEncoder\n",
    "import seaborn as sns\n",
    "import pickle"
   ]
  },
  {
   "cell_type": "code",
   "execution_count": 472,
   "metadata": {
    "colab": {
     "base_uri": "https://localhost:8080/",
     "height": 1000
    },
    "colab_type": "code",
    "id": "pacd9t8ihsHq",
    "outputId": "514a058d-8cbe-4c50-c16a-099a0fdabc94"
   },
   "outputs": [
    {
     "name": "stdout",
     "output_type": "stream",
     "text": [
      "Shape of train data tensor: (73196, 800)\n",
      "Shape of test data tensor: (36052, 800)\n",
      "[   24     3  4340  2491  1674  2692  2784    24     3  4873  1405  4268\n",
      "  1041  1463  2692    24     1    18   113   153  4537   828   874   143\n",
      "   366   265   307    38   143   366    14   989   443  2692     7  2062\n",
      "   257     3   989   340    24  1531    13  1480   874  2674    14    94\n",
      "   874  2674  2643  1761    11    38  4537   168  4774  4705   724     3\n",
      "   724   168  4461    24     3  4294  2491  1674  1565     3   989   181\n",
      "   874  9576   443    24     1  5857    98  1257   221     3    73  5427\n",
      "    10    21   168  4774  4705   724   228   656  5427  7632  1742   141\n",
      "     1    15  3114   172   168    24     1  2785  9576    15    38   366\n",
      "  4537   838   955    51    10  3699    13  2189  2571 10551  1480    29\n",
      "   989   999   544    43     3     2     0     0     0     0     0     0\n",
      "     0     0     0     0     0     0     0     0     0     0     0     0\n",
      "     0     0     0     0     0     0     0     0     0     0     0     0\n",
      "     0     0     0     0     0     0     0     0     0     0     0     0\n",
      "     0     0     0     0     0     0     0     0     0     0     0     0\n",
      "     0     0     0     0     0     0     0     0     0     0     0     0\n",
      "     0     0     0     0     0     0     0     0     0     0     0     0\n",
      "     0     0     0     0     0     0     0     0     0     0     0     0\n",
      "     0     0     0     0     0     0     0     0     0     0     0     0\n",
      "     0     0     0     0     0     0     0     0     0     0     0     0\n",
      "     0     0     0     0     0     0     0     0     0     0     0     0\n",
      "     0     0     0     0     0     0     0     0     0     0     0     0\n",
      "     0     0     0     0     0     0     0     0     0     0     0     0\n",
      "     0     0     0     0     0     0     0     0     0     0     0     0\n",
      "     0     0     0     0     0     0     0     0     0     0     0     0\n",
      "     0     0     0     0     0     0     0     0     0     0     0     0\n",
      "     0     0     0     0     0     0     0     0     0     0     0     0\n",
      "     0     0     0     0     0     0     0     0     0     0     0     0\n",
      "     0     0     0     0     0     0     0     0     0     0     0     0\n",
      "     0     0     0     0     0     0     0     0     0     0     0     0\n",
      "     0     0     0     0     0     0     0     0     0     0     0     0\n",
      "     0     0     0     0     0     0     0     0     0     0     0     0\n",
      "     0     0     0     0     0     0     0     0     0     0     0     0\n",
      "     0     0     0     0     0     0     0     0     0     0     0     0\n",
      "     0     0     0     0     0     0     0     0     0     0     0     0\n",
      "     0     0     0     0     0     0     0     0     0     0     0     0\n",
      "     0     0     0     0     0     0     0     0     0     0     0     0\n",
      "     0     0     0     0     0     0     0     0     0     0     0     0\n",
      "     0     0     0     0     0     0     0     0     0     0     0     0\n",
      "     0     0     0     0     0     0     0     0     0     0     0     0\n",
      "     0     0     0     0     0     0     0     0     0     0     0     0\n",
      "     0     0     0     0     0     0     0     0     0     0     0     0\n",
      "     0     0     0     0     0     0     0     0     0     0     0     0\n",
      "     0     0     0     0     0     0     0     0     0     0     0     0\n",
      "     0     0     0     0     0     0     0     0     0     0     0     0\n",
      "     0     0     0     0     0     0     0     0     0     0     0     0\n",
      "     0     0     0     0     0     0     0     0     0     0     0     0\n",
      "     0     0     0     0     0     0     0     0     0     0     0     0\n",
      "     0     0     0     0     0     0     0     0     0     0     0     0\n",
      "     0     0     0     0     0     0     0     0     0     0     0     0\n",
      "     0     0     0     0     0     0     0     0     0     0     0     0\n",
      "     0     0     0     0     0     0     0     0     0     0     0     0\n",
      "     0     0     0     0     0     0     0     0     0     0     0     0\n",
      "     0     0     0     0     0     0     0     0     0     0     0     0\n",
      "     0     0     0     0     0     0     0     0     0     0     0     0\n",
      "     0     0     0     0     0     0     0     0     0     0     0     0\n",
      "     0     0     0     0     0     0     0     0     0     0     0     0\n",
      "     0     0     0     0     0     0     0     0     0     0     0     0\n",
      "     0     0     0     0     0     0     0     0     0     0     0     0\n",
      "     0     0     0     0     0     0     0     0     0     0     0     0\n",
      "     0     0     0     0     0     0     0     0     0     0     0     0\n",
      "     0     0     0     0     0     0     0     0     0     0     0     0\n",
      "     0     0     0     0     0     0     0     0     0     0     0     0\n",
      "     0     0     0     0     0     0     0     0     0     0     0     0\n",
      "     0     0     0     0     0     0     0     0     0     0     0     0\n",
      "     0     0     0     0     0     0     0     0     0     0     0     0\n",
      "     0     0     0     0     0     0     0     0]\n"
     ]
    }
   ],
   "source": [
    "# truncate and/or pad input sequences\n",
    "max_review_length = 800\n",
    "encoded_train = pad_sequences(sequences_train,maxlen=max_review_length,padding='post', truncating='post')\n",
    "encoded_test = pad_sequences(sequences_test, maxlen=max_review_length,padding='post', truncating='post')\n",
    "print('Shape of train data tensor:', encoded_train.shape)\n",
    "print('Shape of test data tensor:', encoded_test.shape)\n",
    "\n",
    "print(encoded_train[1])"
   ]
  },
  {
   "cell_type": "code",
   "execution_count": 0,
   "metadata": {
    "colab": {},
    "colab_type": "code",
    "id": "CPcf2VpuhsHu"
   },
   "outputs": [],
   "source": [
    "# Loading Embedding File\n",
    "pickle_in = open(\"glove_vectors\",\"rb\")\n",
    "glove_words = pickle.load(pickle_in)"
   ]
  },
  {
   "cell_type": "code",
   "execution_count": 474,
   "metadata": {
    "colab": {
     "base_uri": "https://localhost:8080/",
     "height": 72
    },
    "colab_type": "code",
    "id": "8fmvXa37hsHx",
    "outputId": "15f847a6-7619-4ae6-e528-a84ef263217e"
   },
   "outputs": [
    {
     "name": "stdout",
     "output_type": "stream",
     "text": [
      "5000\n",
      "+++++++++\n",
      "(5000, 300)\n"
     ]
    }
   ],
   "source": [
    "MAX_VOCAB_SIZE=5000\n",
    "num_words = min(MAX_VOCAB_SIZE, len(word2idx) + 1)\n",
    "embedding_matrix = np.zeros((num_words, 300))\n",
    "for word, i in word2idx.items():\n",
    "  if i < MAX_VOCAB_SIZE:\n",
    "    embedding_vector = glove_words.get(word)\n",
    "    if embedding_vector is not None:\n",
    "      # words not found in embedding index will be all zeros.\n",
    "      embedding_matrix[i] = embedding_vector\n",
    "\n",
    "\n",
    "print(num_words)\n",
    "print(\"+++++++++\")\n",
    "print(embedding_matrix.shape)"
   ]
  },
  {
   "cell_type": "code",
   "execution_count": 0,
   "metadata": {
    "colab": {},
    "colab_type": "code",
    "id": "7d_8caLXhsHz"
   },
   "outputs": [],
   "source": [
    "# load pre-trained word embeddings into an Embedding layer\n",
    "# note that we set trainable = False so as to keep the embeddings fixed\n",
    "MAX_SEQUENCE_LENGTH=800\n",
    "embedding_layer = Embedding(\n",
    "  num_words,\n",
    "  300,\n",
    "  weights=[embedding_matrix],\n",
    "  input_length=MAX_SEQUENCE_LENGTH,\n",
    "  trainable=False\n",
    ")\n",
    "input_text = Input(shape=(MAX_SEQUENCE_LENGTH,),name=\"input_text\")\n",
    "x = embedding_layer(input_text)\n",
    "x = LSTM(128,recurrent_dropout=0.5,kernel_regularizer=regularizers.l2(0.001),return_sequences=True)(x) # dropout=0.5\n",
    "# x = SpatialDropout1D(0.5)(x)\n",
    "flatten_1 = Flatten()(x)"
   ]
  },
  {
   "cell_type": "markdown",
   "metadata": {
    "colab_type": "text",
    "id": "aQRwAdkehsH1"
   },
   "source": [
    "### caregorical variable"
   ]
  },
  {
   "cell_type": "code",
   "execution_count": 0,
   "metadata": {
    "colab": {},
    "colab_type": "code",
    "id": "ipS-ey-KhsH2"
   },
   "outputs": [],
   "source": [
    "vect = CountVectorizer(binary=True)\n",
    "vect.fit(x_train[\"teacher_prefix\"])\n",
    "\n",
    "train_prefix = vect.transform(x_train[\"teacher_prefix\"])\n",
    "test_prefix = vect.transform(x_test[\"teacher_prefix\"])"
   ]
  },
  {
   "cell_type": "code",
   "execution_count": 0,
   "metadata": {
    "colab": {},
    "colab_type": "code",
    "id": "CbUVqAtvhsH4"
   },
   "outputs": [],
   "source": [
    "# School State\n",
    "vect = CountVectorizer(binary=True)\n",
    "vect.fit(x_train[\"school_state\"])\n",
    "\n",
    "train_state = vect.transform(x_train[\"school_state\"])\n",
    "test_state = vect.transform(x_test[\"school_state\"])"
   ]
  },
  {
   "cell_type": "code",
   "execution_count": 0,
   "metadata": {
    "colab": {},
    "colab_type": "code",
    "id": "nuqs1LrnhsH5"
   },
   "outputs": [],
   "source": [
    "# For project_grade_category\n",
    "vect = CountVectorizer(binary=True)\n",
    "vect.fit(x_train[\"project_grade_category\"])\n",
    "\n",
    "train_grade = vect.transform(x_train[\"project_grade_category\"])\n",
    "test_grade = vect.transform(x_test[\"project_grade_category\"])"
   ]
  },
  {
   "cell_type": "code",
   "execution_count": 0,
   "metadata": {
    "colab": {},
    "colab_type": "code",
    "id": "4eAlX9tthsH7"
   },
   "outputs": [],
   "source": [
    "# For clean_categories\n",
    "vect = CountVectorizer(binary=True)\n",
    "vect.fit(x_train[\"clean_categories\"])\n",
    "\n",
    "train_subcat = vect.transform(x_train[\"clean_categories\"])\n",
    "test_subcat = vect.transform(x_test[\"clean_categories\"])"
   ]
  },
  {
   "cell_type": "code",
   "execution_count": 0,
   "metadata": {
    "colab": {},
    "colab_type": "code",
    "id": "uZ6qIaTJhsH9"
   },
   "outputs": [],
   "source": [
    "# For clean_subcategories\n",
    "vect = CountVectorizer(binary=True)\n",
    "vect.fit(x_train[\"clean_subcategories\"])\n",
    "\n",
    "train_subcat_1 = vect.transform(x_train[\"clean_subcategories\"])\n",
    "test_subcat_1 = vect.transform(x_test[\"clean_subcategories\"])"
   ]
  },
  {
   "cell_type": "markdown",
   "metadata": {
    "colab_type": "text",
    "id": "uFx5a0g_hsH-"
   },
   "source": [
    "### numerical data"
   ]
  },
  {
   "cell_type": "code",
   "execution_count": 0,
   "metadata": {
    "colab": {},
    "colab_type": "code",
    "id": "M38JdpsnhsH_"
   },
   "outputs": [],
   "source": [
    "# Now we will prepare numerical features for our model\n",
    "num_train_1=x_train['len_essay'].values.reshape(-1, 1)\n",
    "num_train_2=x_train['price'].values.reshape(-1, 1)\n",
    "num_train_3=x_train['teacher_number_of_previously_posted_projects'].values.reshape(-1, 1)\n",
    "\n",
    "num_test_1=x_test['len_essay'].values.reshape(-1, 1)\n",
    "num_test_2=x_test['price'].values.reshape(-1, 1)\n",
    "num_test_3=x_test['teacher_number_of_previously_posted_projects'].values.reshape(-1, 1)\n",
    "\n",
    "\n",
    "num_train=np.concatenate((num_train_1,num_train_2,num_train_3),axis=1)\n",
    "\n",
    "num_test=np.concatenate((num_test_1,num_test_2,num_test_3),axis=1)"
   ]
  },
  {
   "cell_type": "code",
   "execution_count": 0,
   "metadata": {
    "colab": {},
    "colab_type": "code",
    "id": "Q4ONHYNohsIB"
   },
   "outputs": [],
   "source": [
    "from sklearn.preprocessing import StandardScaler\n",
    "norm=StandardScaler()\n",
    "norm_train=norm.fit_transform(num_train)\n",
    "norm_test=norm.transform(num_test)"
   ]
  },
  {
   "cell_type": "code",
   "execution_count": 0,
   "metadata": {
    "colab": {},
    "colab_type": "code",
    "id": "7d4Q1QDEdHgk"
   },
   "outputs": [],
   "source": [
    "from scipy.sparse import hstack\n",
    "cat_train = hstack([train_prefix,train_state,train_grade,train_subcat,train_subcat_1]).todense()\n",
    "cat_test = hstack([test_prefix,test_state,test_grade,test_subcat,test_subcat_1]).todense()"
   ]
  },
  {
   "cell_type": "code",
   "execution_count": 0,
   "metadata": {
    "colab": {},
    "colab_type": "code",
    "id": "IYFTjLbBdHs1"
   },
   "outputs": [],
   "source": [
    "x_train = np.hstack((cat_train,norm_train))\n",
    "x_test = np.hstack((cat_test,norm_test))"
   ]
  },
  {
   "cell_type": "code",
   "execution_count": 485,
   "metadata": {
    "colab": {
     "base_uri": "https://localhost:8080/",
     "height": 35
    },
    "colab_type": "code",
    "id": "I8CkQGqPdwUI",
    "outputId": "fc9dac4d-8e90-4c74-b8de-56fccbe210fa"
   },
   "outputs": [
    {
     "data": {
      "text/plain": [
       "(73196, 102)"
      ]
     },
     "execution_count": 485,
     "metadata": {
      "tags": []
     },
     "output_type": "execute_result"
    }
   ],
   "source": [
    "x_train.shape"
   ]
  },
  {
   "cell_type": "code",
   "execution_count": 0,
   "metadata": {
    "colab": {},
    "colab_type": "code",
    "id": "6WDMLSlodH2j"
   },
   "outputs": [],
   "source": [
    "expend_train = np.expand_dims(x_train,2)\n",
    "expend_test = np.expand_dims(x_test,2)"
   ]
  },
  {
   "cell_type": "code",
   "execution_count": 487,
   "metadata": {
    "colab": {
     "base_uri": "https://localhost:8080/",
     "height": 35
    },
    "colab_type": "code",
    "id": "thCGJe8VdH0k",
    "outputId": "a32272ec-731f-462c-be2f-69591495b3e0"
   },
   "outputs": [
    {
     "data": {
      "text/plain": [
       "(73196, 102, 1)"
      ]
     },
     "execution_count": 487,
     "metadata": {
      "tags": []
     },
     "output_type": "execute_result"
    }
   ],
   "source": [
    "expend_train.shape"
   ]
  },
  {
   "cell_type": "code",
   "execution_count": 488,
   "metadata": {
    "colab": {
     "base_uri": "https://localhost:8080/",
     "height": 72
    },
    "colab_type": "code",
    "id": "cCXwO4ZrdHx9",
    "outputId": "2466fbd7-4db9-4468-96b0-4f019f232d3a"
   },
   "outputs": [
    {
     "name": "stdout",
     "output_type": "stream",
     "text": [
      "(73196, 102, 1)\n",
      "++++++++++++++\n",
      "(36052, 102, 1)\n"
     ]
    }
   ],
   "source": [
    "print(expend_train.shape)\n",
    "print(\"++++++++++++++\")\n",
    "print(expend_test.shape)"
   ]
  },
  {
   "cell_type": "code",
   "execution_count": 0,
   "metadata": {
    "colab": {},
    "colab_type": "code",
    "id": "VNcVbuOSeXnS"
   },
   "outputs": [],
   "source": [
    "inp_conv =  Input(shape=(102, 1),name='features_all')\n",
    "x1 = Conv1D(filters=128, kernel_size=3, activation='relu',kernel_initializer=\"he_normal\")(inp_conv)\n",
    "x1 = Conv1D(filters=128, kernel_size=3, activation='relu',kernel_initializer=\"he_normal\")(x1)\n",
    "# x1 = Conv1D(filters=256, kernel_size=5, activation='relu',kernel_initializer=\"he_normal\")(x1)\n",
    "# x1 = Conv1D(filters=128, kernel_size=5, activation='relu',kernel_initializer=\"he_normal\")(x1)\n",
    "x2 = Flatten()(x1)"
   ]
  },
  {
   "cell_type": "code",
   "execution_count": 490,
   "metadata": {
    "colab": {
     "base_uri": "https://localhost:8080/",
     "height": 35
    },
    "colab_type": "code",
    "id": "zcYYD3_7fIov",
    "outputId": "956f3743-1e88-48b3-f35d-4db8b82c02d0"
   },
   "outputs": [
    {
     "name": "stdout",
     "output_type": "stream",
     "text": [
      "Building Model-3\n"
     ]
    }
   ],
   "source": [
    "\n",
    "print(\"Building Model-3\")\n",
    "x_concatenate = concatenate([flatten_1,x2])\n",
    "# x_concatenate = BatchNormalization()(x_concatenate)\n",
    "x = Dense(128,activation=\"relu\",kernel_initializer=\"he_normal\",kernel_regularizer=regularizers.l2(0.001))(x_concatenate)\n",
    "# x=LeakyReLU(alpha=0.3)(x)\n",
    "x=Dropout(0.5)(x)\n",
    "x = Dense(64,activation=\"relu\",kernel_initializer=\"he_normal\",kernel_regularizer=regularizers.l2(0.001))(x)\n",
    "# x=LeakyReLU(alpha=0.3)(x)\n",
    "x=Dropout(0.3)(x)\n",
    "x = Dense(32,activation=\"relu\",kernel_initializer=\"he_normal\",kernel_regularizer=regularizers.l2(0.001))(x)\n",
    "# x = BatchNormalization()(x)\n",
    "# x=LeakyReLU(alpha=0.3)(x)\n",
    "output = Dense(2, activation='softmax', name='output')(x)\n",
    "model_3 = Model(inputs=[input_text,inp_conv],outputs=[output])"
   ]
  },
  {
   "cell_type": "code",
   "execution_count": 0,
   "metadata": {
    "colab": {},
    "colab_type": "code",
    "id": "HnOizB03ffIL"
   },
   "outputs": [],
   "source": [
    "train_data_3 = [encoded_train,expend_train]\n",
    "test_data_3 = [encoded_test,expend_test]\n",
    "\n",
    "from keras.utils import np_utils\n",
    "Y_train = np_utils.to_categorical(y_train, 2) \n",
    "Y_test = np_utils.to_categorical(y_test, 2)"
   ]
  },
  {
   "cell_type": "code",
   "execution_count": 492,
   "metadata": {
    "colab": {
     "base_uri": "https://localhost:8080/",
     "height": 607
    },
    "colab_type": "code",
    "id": "FU_QRLoxebcX",
    "outputId": "a361968c-d7b9-44ec-aefa-fd8758513f75"
   },
   "outputs": [
    {
     "data": {
      "image/png": "[encoded data removed]",
      "text/plain": [
       "<IPython.core.display.Image object>"
      ]
     },
     "execution_count": 492,
     "metadata": {
      "image/png": {
       "height": 590,
       "width": 460
      },
      "tags": []
     },
     "output_type": "execute_result"
    }
   ],
   "source": [
    "# https://github.com/mmortazavi/EntityEmbedding-Working_Example/blob/master/EntityEmbedding.ipynb\n",
    "from keras.utils import plot_model\n",
    "import pydot_ng as pydot\n",
    "plot_model(model_3, show_shapes=True, show_layer_names=True, to_file='model_3.png')\n",
    "from IPython.display import Image\n",
    "Image(retina=True, filename='model_3.png')"
   ]
  },
  {
   "cell_type": "code",
   "execution_count": 0,
   "metadata": {
    "colab": {},
    "colab_type": "code",
    "id": "ISveJWPYfWko"
   },
   "outputs": [],
   "source": [
    "checkpoint_3 = ModelCheckpoint(\"model_3.h5\",\n",
    "                             monitor=\"val_auroc\",\n",
    "                             mode=\"max\",\n",
    "                             save_best_only = True,\n",
    "                             verbose=1)\n",
    "\n",
    "# earlystop_3 = EarlyStopping(monitor = 'val_loss', \n",
    "#                             mode=\"min\",\n",
    "#                             min_delta = 0, \n",
    "#                             patience = 2,\n",
    "#                             verbose = 1,\n",
    "#                             restore_best_weights = True)\n",
    "\n",
    "# reduce_lr_3 = ReduceLROnPlateau(monitor = 'val_auroc', factor = 0.2, patience = 2, verbose = 1, min_delta = 0.0001)\n",
    "\n",
    "tensorboard_3 = TensorBoard(log_dir='graph_3', histogram_freq=0, batch_size=512, write_graph=True, write_grads=True, write_images=False, embeddings_freq=0, embeddings_layer_names=None, embeddings_metadata=None, embeddings_data=None, update_freq='epoch')\n",
    "\n",
    "callbacks_3 = [tensorboard_3,checkpoint_3]"
   ]
  },
  {
   "cell_type": "code",
   "execution_count": 0,
   "metadata": {
    "colab": {},
    "colab_type": "code",
    "id": "QnIj53KLebic"
   },
   "outputs": [],
   "source": [
    "# Defining Custom ROC-AUC Metrics\n",
    "from sklearn.metrics import roc_auc_score\n",
    "\n",
    "def auc1(y_true, y_pred):\n",
    "    if len(np.unique(y_true[:,1])) == 1:\n",
    "        return 0.5\n",
    "    else:\n",
    "        return roc_auc_score(y_true, y_pred)\n",
    "\n",
    "def auroc(y_true, y_pred):\n",
    "    return tf.py_func(auc1, (y_true, y_pred), tf.double)"
   ]
  },
  {
   "cell_type": "code",
   "execution_count": 0,
   "metadata": {
    "colab": {},
    "colab_type": "code",
    "id": "2ME8ZwARhGE5"
   },
   "outputs": [],
   "source": [
    "\n",
    "adam = Adam(lr=0.001, beta_1=0.9, beta_2=0.999, epsilon=None, decay=0.0, amsgrad=False)\n",
    "rms = RMSprop(lr=0.001, rho=0.9, epsilon=None, decay=0.0)"
   ]
  },
  {
   "cell_type": "code",
   "execution_count": 0,
   "metadata": {
    "colab": {},
    "colab_type": "code",
    "id": "MdPSmxfLhOaT"
   },
   "outputs": [],
   "source": [
    "model_3.compile(optimizer=adam, loss='categorical_crossentropy', metrics=[auroc])"
   ]
  },
  {
   "cell_type": "code",
   "execution_count": 497,
   "metadata": {
    "colab": {
     "base_uri": "https://localhost:8080/",
     "height": 1000
    },
    "colab_type": "code",
    "id": "iyB5aJd6hGQx",
    "outputId": "c1a5d003-11fa-4a42-bdc7-650e4574833c"
   },
   "outputs": [
    {
     "name": "stdout",
     "output_type": "stream",
     "text": [
      "Train on 73196 samples, validate on 36052 samples\n",
      "Epoch 1/30\n",
      "73196/73196 [==============================] - 327s 4ms/step - loss: 2.2392 - auroc: 0.5115 - val_loss: 0.6345 - val_auroc: 0.6141\n",
      "\n",
      "Epoch 00001: val_auroc improved from -inf to 0.61413, saving model to model_3.h5\n",
      "Epoch 2/30\n",
      "73196/73196 [==============================] - 320s 4ms/step - loss: 0.4983 - auroc: 0.6402 - val_loss: 0.4804 - val_auroc: 0.7195\n",
      "\n",
      "Epoch 00002: val_auroc improved from 0.61413 to 0.71945, saving model to model_3.h5\n",
      "Epoch 3/30\n",
      "73196/73196 [==============================] - 319s 4ms/step - loss: 0.4454 - auroc: 0.7099 - val_loss: 0.4493 - val_auroc: 0.7365\n",
      "\n",
      "Epoch 00003: val_auroc improved from 0.71945 to 0.73651, saving model to model_3.h5\n",
      "Epoch 4/30\n",
      "73196/73196 [==============================] - 322s 4ms/step - loss: 0.4272 - auroc: 0.7267 - val_loss: 0.4314 - val_auroc: 0.7452\n",
      "\n",
      "Epoch 00004: val_auroc improved from 0.73651 to 0.74519, saving model to model_3.h5\n",
      "Epoch 5/30\n",
      "73196/73196 [==============================] - 318s 4ms/step - loss: 0.4156 - auroc: 0.7368 - val_loss: 0.4218 - val_auroc: 0.7439\n",
      "\n",
      "Epoch 00005: val_auroc did not improve from 0.74519\n",
      "Epoch 6/30\n",
      "73196/73196 [==============================] - 313s 4ms/step - loss: 0.4085 - auroc: 0.7415 - val_loss: 0.4105 - val_auroc: 0.7501\n",
      "\n",
      "Epoch 00006: val_auroc improved from 0.74519 to 0.75008, saving model to model_3.h5\n",
      "Epoch 7/30\n",
      "73196/73196 [==============================] - 323s 4ms/step - loss: 0.4037 - auroc: 0.7456 - val_loss: 0.4020 - val_auroc: 0.7504\n",
      "\n",
      "Epoch 00007: val_auroc improved from 0.75008 to 0.75037, saving model to model_3.h5\n",
      "Epoch 8/30\n",
      "73196/73196 [==============================] - 317s 4ms/step - loss: 0.4006 - auroc: 0.7460 - val_loss: 0.3988 - val_auroc: 0.7534\n",
      "\n",
      "Epoch 00008: val_auroc improved from 0.75037 to 0.75339, saving model to model_3.h5\n",
      "Epoch 9/30\n",
      "73196/73196 [==============================] - 324s 4ms/step - loss: 0.3982 - auroc: 0.7497 - val_loss: 0.4002 - val_auroc: 0.7531\n",
      "\n",
      "Epoch 00009: val_auroc did not improve from 0.75339\n",
      "Epoch 10/30\n",
      "73196/73196 [==============================] - 321s 4ms/step - loss: 0.3954 - auroc: 0.7506 - val_loss: 0.3938 - val_auroc: 0.7542\n",
      "\n",
      "Epoch 00010: val_auroc improved from 0.75339 to 0.75420, saving model to model_3.h5\n",
      "Epoch 11/30\n",
      "73196/73196 [==============================] - 320s 4ms/step - loss: 0.3940 - auroc: 0.7533 - val_loss: 0.3935 - val_auroc: 0.7533\n",
      "\n",
      "Epoch 00011: val_auroc did not improve from 0.75420\n",
      "Epoch 12/30\n",
      "73196/73196 [==============================] - 317s 4ms/step - loss: 0.3925 - auroc: 0.7533 - val_loss: 0.3965 - val_auroc: 0.7548\n",
      "\n",
      "Epoch 00012: val_auroc improved from 0.75420 to 0.75475, saving model to model_3.h5\n",
      "Epoch 13/30\n",
      "73196/73196 [==============================] - 318s 4ms/step - loss: 0.3928 - auroc: 0.7556 - val_loss: 0.3940 - val_auroc: 0.7527\n",
      "\n",
      "Epoch 00013: val_auroc did not improve from 0.75475\n",
      "Epoch 14/30\n",
      "73196/73196 [==============================] - 316s 4ms/step - loss: 0.3915 - auroc: 0.7557 - val_loss: 0.3897 - val_auroc: 0.7550\n",
      "\n",
      "Epoch 00014: val_auroc improved from 0.75475 to 0.75503, saving model to model_3.h5\n",
      "Epoch 15/30\n",
      "73196/73196 [==============================] - 320s 4ms/step - loss: 0.3894 - auroc: 0.7577 - val_loss: 0.4003 - val_auroc: 0.7524\n",
      "\n",
      "Epoch 00015: val_auroc did not improve from 0.75503\n",
      "Epoch 16/30\n",
      "73196/73196 [==============================] - 320s 4ms/step - loss: 0.3895 - auroc: 0.7575 - val_loss: 0.3888 - val_auroc: 0.7547\n",
      "\n",
      "Epoch 00016: val_auroc did not improve from 0.75503\n",
      "Epoch 17/30\n",
      "73196/73196 [==============================] - 320s 4ms/step - loss: 0.3887 - auroc: 0.7576 - val_loss: 0.3878 - val_auroc: 0.7572\n",
      "\n",
      "Epoch 00017: val_auroc improved from 0.75503 to 0.75723, saving model to model_3.h5\n",
      "Epoch 18/30\n",
      "73196/73196 [==============================] - 320s 4ms/step - loss: 0.3885 - auroc: 0.7596 - val_loss: 0.3888 - val_auroc: 0.7571\n",
      "\n",
      "Epoch 00018: val_auroc did not improve from 0.75723\n",
      "Epoch 19/30\n",
      "73196/73196 [==============================] - 318s 4ms/step - loss: 0.3871 - auroc: 0.7579 - val_loss: 0.3870 - val_auroc: 0.7577\n",
      "\n",
      "Epoch 00019: val_auroc improved from 0.75723 to 0.75771, saving model to model_3.h5\n",
      "Epoch 20/30\n",
      "73196/73196 [==============================] - 319s 4ms/step - loss: 0.3872 - auroc: 0.7609 - val_loss: 0.3884 - val_auroc: 0.7578\n",
      "\n",
      "Epoch 00020: val_auroc improved from 0.75771 to 0.75778, saving model to model_3.h5\n",
      "Epoch 21/30\n",
      "73196/73196 [==============================] - 319s 4ms/step - loss: 0.3884 - auroc: 0.7601 - val_loss: 0.3886 - val_auroc: 0.7572\n",
      "\n",
      "Epoch 00021: val_auroc did not improve from 0.75778\n",
      "Epoch 22/30\n",
      "73196/73196 [==============================] - 319s 4ms/step - loss: 0.3868 - auroc: 0.7608 - val_loss: 0.3895 - val_auroc: 0.7588\n",
      "\n",
      "Epoch 00022: val_auroc improved from 0.75778 to 0.75877, saving model to model_3.h5\n",
      "Epoch 23/30\n",
      "73196/73196 [==============================] - 316s 4ms/step - loss: 0.3861 - auroc: 0.7604 - val_loss: 0.3878 - val_auroc: 0.7585\n",
      "\n",
      "Epoch 00023: val_auroc did not improve from 0.75877\n",
      "Epoch 24/30\n",
      "73196/73196 [==============================] - 321s 4ms/step - loss: 0.3869 - auroc: 0.7608 - val_loss: 0.3966 - val_auroc: 0.7537\n",
      "\n",
      "Epoch 00024: val_auroc did not improve from 0.75877\n",
      "Epoch 25/30\n",
      "73196/73196 [==============================] - 321s 4ms/step - loss: 0.3874 - auroc: 0.7600 - val_loss: 0.3880 - val_auroc: 0.7570\n",
      "\n",
      "Epoch 00025: val_auroc did not improve from 0.75877\n",
      "Epoch 26/30\n",
      "73196/73196 [==============================] - 323s 4ms/step - loss: 0.3857 - auroc: 0.7608 - val_loss: 0.3901 - val_auroc: 0.7568\n",
      "\n",
      "Epoch 00026: val_auroc did not improve from 0.75877\n",
      "Epoch 27/30\n",
      "73196/73196 [==============================] - 322s 4ms/step - loss: 0.3869 - auroc: 0.7611 - val_loss: 0.3904 - val_auroc: 0.7541\n",
      "\n",
      "Epoch 00027: val_auroc did not improve from 0.75877\n",
      "Epoch 28/30\n",
      "73196/73196 [==============================] - 323s 4ms/step - loss: 0.3861 - auroc: 0.7615 - val_loss: 0.3907 - val_auroc: 0.7575\n",
      "\n",
      "Epoch 00028: val_auroc did not improve from 0.75877\n",
      "Epoch 29/30\n",
      "73196/73196 [==============================] - 323s 4ms/step - loss: 0.3860 - auroc: 0.7616 - val_loss: 0.3888 - val_auroc: 0.7590\n",
      "\n",
      "Epoch 00029: val_auroc improved from 0.75877 to 0.75900, saving model to model_3.h5\n",
      "Epoch 30/30\n",
      "73196/73196 [==============================] - 324s 4ms/step - loss: 0.3842 - auroc: 0.7636 - val_loss: 0.3887 - val_auroc: 0.7596\n",
      "\n",
      "Epoch 00030: val_auroc improved from 0.75900 to 0.75960, saving model to model_3.h5\n"
     ]
    }
   ],
   "source": [
    "history_3 = model_3.fit(train_data_3,Y_train,batch_size=512,epochs=30,validation_data=(test_data_3,Y_test),callbacks=callbacks_3)"
   ]
  },
  {
   "cell_type": "code",
   "execution_count": 498,
   "metadata": {
    "colab": {
     "base_uri": "https://localhost:8080/",
     "height": 1000
    },
    "colab_type": "code",
    "id": "UjUA3RR6hsIY",
    "outputId": "d48416f7-13f3-480d-d291-9ec6c9056b07"
   },
   "outputs": [
    {
     "name": "stdout",
     "output_type": "stream",
     "text": [
      "Model: \"model_7\"\n",
      "__________________________________________________________________________________________________\n",
      "Layer (type)                    Output Shape         Param #     Connected to                     \n",
      "==================================================================================================\n",
      "input_text (InputLayer)         (None, 800)          0                                            \n",
      "__________________________________________________________________________________________________\n",
      "embedding_3 (Embedding)         (None, 800, 300)     1500000     input_text[0][0]                 \n",
      "__________________________________________________________________________________________________\n",
      "teacher_prefix (InputLayer)     (None, 1)            0                                            \n",
      "__________________________________________________________________________________________________\n",
      "school_prefix (InputLayer)      (None, 1)            0                                            \n",
      "__________________________________________________________________________________________________\n",
      "grade_cat (InputLayer)          (None, 1)            0                                            \n",
      "__________________________________________________________________________________________________\n",
      "sub_cat (InputLayer)            (None, 1)            0                                            \n",
      "__________________________________________________________________________________________________\n",
      "sub_cat_1 (InputLayer)          (None, 1)            0                                            \n",
      "__________________________________________________________________________________________________\n",
      "lstm_3 (LSTM)                   (None, 800, 128)     219648      embedding_3[0][0]                \n",
      "__________________________________________________________________________________________________\n",
      "emb_pre (Embedding)             (None, 1, 3)         15          teacher_prefix[0][0]             \n",
      "__________________________________________________________________________________________________\n",
      "emb_state (Embedding)           (None, 1, 26)        1326        school_prefix[0][0]              \n",
      "__________________________________________________________________________________________________\n",
      "emb_grade (Embedding)           (None, 1, 2)         8           grade_cat[0][0]                  \n",
      "__________________________________________________________________________________________________\n",
      "emb_subcat (Embedding)          (None, 1, 26)        1326        sub_cat[0][0]                    \n",
      "__________________________________________________________________________________________________\n",
      "emb_subcat_1 (Embedding)        (None, 1, 50)        19550       sub_cat_1[0][0]                  \n",
      "__________________________________________________________________________________________________\n",
      "numerical_features (InputLayer) (None, 3)            0                                            \n",
      "__________________________________________________________________________________________________\n",
      "flatten_13 (Flatten)            (None, 102400)       0           lstm_3[0][0]                     \n",
      "__________________________________________________________________________________________________\n",
      "flatten_14 (Flatten)            (None, 3)            0           emb_pre[0][0]                    \n",
      "__________________________________________________________________________________________________\n",
      "flatten_15 (Flatten)            (None, 26)           0           emb_state[0][0]                  \n",
      "__________________________________________________________________________________________________\n",
      "flatten_16 (Flatten)            (None, 2)            0           emb_grade[0][0]                  \n",
      "__________________________________________________________________________________________________\n",
      "flatten_17 (Flatten)            (None, 26)           0           emb_subcat[0][0]                 \n",
      "__________________________________________________________________________________________________\n",
      "flatten_18 (Flatten)            (None, 50)           0           emb_subcat_1[0][0]               \n",
      "__________________________________________________________________________________________________\n",
      "dense_8 (Dense)                 (None, 100)          400         numerical_features[0][0]         \n",
      "__________________________________________________________________________________________________\n",
      "concatenate_3 (Concatenate)     (None, 102607)       0           flatten_13[0][0]                 \n",
      "                                                                 flatten_14[0][0]                 \n",
      "                                                                 flatten_15[0][0]                 \n",
      "                                                                 flatten_16[0][0]                 \n",
      "                                                                 flatten_17[0][0]                 \n",
      "                                                                 flatten_18[0][0]                 \n",
      "                                                                 dense_8[0][0]                    \n",
      "__________________________________________________________________________________________________\n",
      "dense_21 (Dense)                (None, 128)          13133824    concatenate_3[0][0]              \n",
      "__________________________________________________________________________________________________\n",
      "dropout_13 (Dropout)            (None, 128)          0           dense_21[0][0]                   \n",
      "__________________________________________________________________________________________________\n",
      "dense_22 (Dense)                (None, 256)          33024       dropout_13[0][0]                 \n",
      "__________________________________________________________________________________________________\n",
      "dropout_14 (Dropout)            (None, 256)          0           dense_22[0][0]                   \n",
      "__________________________________________________________________________________________________\n",
      "dense_23 (Dense)                (None, 64)           16448       dropout_14[0][0]                 \n",
      "__________________________________________________________________________________________________\n",
      "batch_normalization_7 (BatchNor (None, 64)           256         dense_23[0][0]                   \n",
      "__________________________________________________________________________________________________\n",
      "output (Dense)                  (None, 2)            130         batch_normalization_7[0][0]      \n",
      "==================================================================================================\n",
      "Total params: 14,925,955\n",
      "Trainable params: 13,425,827\n",
      "Non-trainable params: 1,500,128\n",
      "__________________________________________________________________________________________________\n",
      "None\n"
     ]
    }
   ],
   "source": [
    "print(model_2.summary())"
   ]
  },
  {
   "cell_type": "code",
   "execution_count": 0,
   "metadata": {
    "colab": {},
    "colab_type": "code",
    "id": "l_gLkqYYhsIZ"
   },
   "outputs": [],
   "source": [
    "my_model = load_model(\"model_2.h5\",custom_objects={\"auroc\":auroc})"
   ]
  },
  {
   "cell_type": "code",
   "execution_count": 0,
   "metadata": {
    "colab": {},
    "colab_type": "code",
    "id": "ls7xXsEbAe1g"
   },
   "outputs": [],
   "source": [
    "project_status = {0:\"Rejected\",1:\"Approved\"}"
   ]
  },
  {
   "cell_type": "code",
   "execution_count": 0,
   "metadata": {
    "colab": {},
    "colab_type": "code",
    "id": "OHDDf7FnBCJI"
   },
   "outputs": [],
   "source": [
    "Y_pred = my_model.predict(test_data_1,batch_size=512)"
   ]
  },
  {
   "cell_type": "code",
   "execution_count": 0,
   "metadata": {
    "colab": {},
    "colab_type": "code",
    "id": "9S9_hW05BSnE"
   },
   "outputs": [],
   "source": [
    "# took the function from https://nbviewer.jupyter.org/github/pranaya-mathur/Human-Activity-Recognition/blob/master/Human_Activity_Recognition.ipynb\n",
    "def confusion_matrix(Y_true, Y_pred):\n",
    "    Y_true = pd.Series([project_status[y] for y in np.argmax(Y_test, axis=1)])\n",
    "    Y_pred = pd.Series([project_status[y] for y in np.argmax(Y_pred, axis=1)])\n",
    "\n",
    "    return pd.crosstab(Y_true, Y_pred, rownames=['True'], colnames=['Pred'])"
   ]
  },
  {
   "cell_type": "code",
   "execution_count": 503,
   "metadata": {
    "colab": {
     "base_uri": "https://localhost:8080/",
     "height": 138
    },
    "colab_type": "code",
    "id": "oL2rcYKkBZcP",
    "outputId": "b24b33db-35fb-4f4b-d98b-963ec7f2e564"
   },
   "outputs": [
    {
     "data": {
      "text/html": [
       "<div>\n",
       "<style scoped>\n",
       "    .dataframe tbody tr th:only-of-type {\n",
       "        vertical-align: middle;\n",
       "    }\n",
       "\n",
       "    .dataframe tbody tr th {\n",
       "        vertical-align: top;\n",
       "    }\n",
       "\n",
       "    .dataframe thead th {\n",
       "        text-align: right;\n",
       "    }\n",
       "</style>\n",
       "<table border=\"1\" class=\"dataframe\">\n",
       "  <thead>\n",
       "    <tr style=\"text-align: right;\">\n",
       "      <th>Pred</th>\n",
       "      <th>Approved</th>\n",
       "      <th>Rejected</th>\n",
       "    </tr>\n",
       "    <tr>\n",
       "      <th>True</th>\n",
       "      <th></th>\n",
       "      <th></th>\n",
       "    </tr>\n",
       "  </thead>\n",
       "  <tbody>\n",
       "    <tr>\n",
       "      <th>Approved</th>\n",
       "      <td>30134</td>\n",
       "      <td>459</td>\n",
       "    </tr>\n",
       "    <tr>\n",
       "      <th>Rejected</th>\n",
       "      <td>4801</td>\n",
       "      <td>658</td>\n",
       "    </tr>\n",
       "  </tbody>\n",
       "</table>\n",
       "</div>"
      ],
      "text/plain": [
       "Pred      Approved  Rejected\n",
       "True                        \n",
       "Approved     30134       459\n",
       "Rejected      4801       658"
      ]
     },
     "execution_count": 503,
     "metadata": {
      "tags": []
     },
     "output_type": "execute_result"
    }
   ],
   "source": [
    "results = confusion_matrix(Y_test,Y_pred)\n",
    "results"
   ]
  },
  {
   "cell_type": "code",
   "execution_count": 504,
   "metadata": {
    "colab": {
     "base_uri": "https://localhost:8080/",
     "height": 531
    },
    "colab_type": "code",
    "id": "lPRAgkrVBfZ1",
    "outputId": "1169d019-a74e-4fa8-aee1-f916fabe4fa5"
   },
   "outputs": [
    {
     "data": {
      "image/png": "[encoded data removed]",
      "text/plain": [
       "<Figure size 432x288 with 1 Axes>"
      ]
     },
     "metadata": {
      "tags": []
     },
     "output_type": "display_data"
    },
    {
     "data": {
      "image/png": "[encoded data removed]",
      "text/plain": [
       "<Figure size 432x288 with 1 Axes>"
      ]
     },
     "metadata": {
      "tags": []
     },
     "output_type": "display_data"
    }
   ],
   "source": [
    "plt.plot(history_2.history['auroc'], 'r')\n",
    "plt.plot(history_2.history['val_auroc'], 'b')\n",
    "plt.legend({'Train ROCAUC': 'r', 'Test ROCAUC':'b'})\n",
    "plt.show()\n",
    "\n",
    "\n",
    "plt.plot(history_2.history['loss'], 'r')\n",
    "plt.plot(history_2.history['val_loss'], 'b')\n",
    "plt.legend({'Train Loss': 'r', 'Test Loss':'b'})\n",
    "plt.show()"
   ]
  },
  {
   "cell_type": "markdown",
   "metadata": {
    "colab_type": "text",
    "id": "lWNoCV6PB3o5"
   },
   "source": [
    "Model is little bit overfitting because at end, train AUC(0.7636) hs higher than test AUC(0.7595)"
   ]
  },
  {
   "cell_type": "code",
   "execution_count": 0,
   "metadata": {
    "colab": {},
    "colab_type": "code",
    "id": "kxxz_uoBCQhR"
   },
   "outputs": [],
   "source": []
  }
 ],
 "metadata": {
  "accelerator": "GPU",
  "colab": {
   "collapsed_sections": [],
   "name": "assignmen_14.ipynb",
   "provenance": []
  },
  "kernelspec": {
   "display_name": "Python 3",
   "language": "python",
   "name": "python3"
  },
  "language_info": {
   "codemirror_mode": {
    "name": "ipython",
    "version": 3
   },
   "file_extension": ".py",
   "mimetype": "text/x-python",
   "name": "python",
   "nbconvert_exporter": "python",
   "pygments_lexer": "ipython3",
   "version": "3.7.3"
  }
 },
 "nbformat": 4,
 "nbformat_minor": 1
}
